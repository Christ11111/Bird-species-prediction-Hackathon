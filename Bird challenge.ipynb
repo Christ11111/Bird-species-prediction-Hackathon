{
 "cells": [
  {
   "cell_type": "code",
   "execution_count": 1,
   "id": "0d6d8135",
   "metadata": {},
   "outputs": [],
   "source": [
    "import numpy as np\n",
    "import pandas as pd\n",
    "import seaborn as sns\n",
    "import matplotlib.pyplot as plt\n",
    "from warnings import filterwarnings\n",
    "filterwarnings('ignore')\n",
    "from scipy.stats import chi2_contingency\n",
    "import pandas as pd\n",
    "from scipy.stats import f_oneway\n",
    "from sklearn.ensemble import ExtraTreesClassifier\n",
    "from sklearn.datasets import load_iris\n",
    "from sklearn.feature_selection import SelectFromModel\n",
    "from statsmodels.stats.outliers_influence import variance_inflation_factor"
   ]
  },
  {
   "cell_type": "code",
   "execution_count": 2,
   "id": "1a95e5eb",
   "metadata": {},
   "outputs": [
    {
     "data": {
      "text/html": [
       "<div>\n",
       "<style scoped>\n",
       "    .dataframe tbody tr th:only-of-type {\n",
       "        vertical-align: middle;\n",
       "    }\n",
       "\n",
       "    .dataframe tbody tr th {\n",
       "        vertical-align: top;\n",
       "    }\n",
       "\n",
       "    .dataframe thead th {\n",
       "        text-align: right;\n",
       "    }\n",
       "</style>\n",
       "<table border=\"1\" class=\"dataframe\">\n",
       "  <thead>\n",
       "    <tr style=\"text-align: right;\">\n",
       "      <th></th>\n",
       "      <th>bill_depth</th>\n",
       "      <th>bill_length</th>\n",
       "      <th>wing_length</th>\n",
       "      <th>location</th>\n",
       "      <th>mass</th>\n",
       "      <th>sex</th>\n",
       "      <th>ID</th>\n",
       "    </tr>\n",
       "  </thead>\n",
       "  <tbody>\n",
       "    <tr>\n",
       "      <th>0</th>\n",
       "      <td>14.300000</td>\n",
       "      <td>48.200000</td>\n",
       "      <td>210.000000</td>\n",
       "      <td>loc_2</td>\n",
       "      <td>4600.0</td>\n",
       "      <td>0.0</td>\n",
       "      <td>284</td>\n",
       "    </tr>\n",
       "    <tr>\n",
       "      <th>1</th>\n",
       "      <td>14.400000</td>\n",
       "      <td>48.400000</td>\n",
       "      <td>203.000000</td>\n",
       "      <td>loc_2</td>\n",
       "      <td>4625.0</td>\n",
       "      <td>0.0</td>\n",
       "      <td>101</td>\n",
       "    </tr>\n",
       "    <tr>\n",
       "      <th>2</th>\n",
       "      <td>18.400000</td>\n",
       "      <td>NaN</td>\n",
       "      <td>200.000000</td>\n",
       "      <td>loc_3</td>\n",
       "      <td>3400.0</td>\n",
       "      <td>0.0</td>\n",
       "      <td>400</td>\n",
       "    </tr>\n",
       "    <tr>\n",
       "      <th>3</th>\n",
       "      <td>14.982114</td>\n",
       "      <td>47.504878</td>\n",
       "      <td>NaN</td>\n",
       "      <td>NaN</td>\n",
       "      <td>4800.0</td>\n",
       "      <td>0.0</td>\n",
       "      <td>98</td>\n",
       "    </tr>\n",
       "    <tr>\n",
       "      <th>4</th>\n",
       "      <td>18.982114</td>\n",
       "      <td>38.259307</td>\n",
       "      <td>217.186992</td>\n",
       "      <td>loc_3</td>\n",
       "      <td>5200.0</td>\n",
       "      <td>0.0</td>\n",
       "      <td>103</td>\n",
       "    </tr>\n",
       "  </tbody>\n",
       "</table>\n",
       "</div>"
      ],
      "text/plain": [
       "   bill_depth  bill_length  wing_length location    mass  sex   ID\n",
       "0   14.300000    48.200000   210.000000    loc_2  4600.0  0.0  284\n",
       "1   14.400000    48.400000   203.000000    loc_2  4625.0  0.0  101\n",
       "2   18.400000          NaN   200.000000    loc_3  3400.0  0.0  400\n",
       "3   14.982114    47.504878          NaN      NaN  4800.0  0.0   98\n",
       "4   18.982114    38.259307   217.186992    loc_3  5200.0  0.0  103"
      ]
     },
     "execution_count": 2,
     "metadata": {},
     "output_type": "execute_result"
    }
   ],
   "source": [
    "df_set = pd.read_csv(r'C:\\Users\\xchri\\OneDrive\\Documents\\bilgrit\\Bird challenge\\Bird Species Classification Dataset\\Dataset\\training_set\\training_set.csv')\n",
    "df_set.head()"
   ]
  },
  {
   "cell_type": "code",
   "execution_count": 3,
   "id": "7ae027ef",
   "metadata": {},
   "outputs": [
    {
     "data": {
      "text/html": [
       "<div>\n",
       "<style scoped>\n",
       "    .dataframe tbody tr th:only-of-type {\n",
       "        vertical-align: middle;\n",
       "    }\n",
       "\n",
       "    .dataframe tbody tr th {\n",
       "        vertical-align: top;\n",
       "    }\n",
       "\n",
       "    .dataframe thead th {\n",
       "        text-align: right;\n",
       "    }\n",
       "</style>\n",
       "<table border=\"1\" class=\"dataframe\">\n",
       "  <thead>\n",
       "    <tr style=\"text-align: right;\">\n",
       "      <th></th>\n",
       "      <th>ID</th>\n",
       "      <th>species</th>\n",
       "    </tr>\n",
       "  </thead>\n",
       "  <tbody>\n",
       "    <tr>\n",
       "      <th>0</th>\n",
       "      <td>284</td>\n",
       "      <td>C</td>\n",
       "    </tr>\n",
       "    <tr>\n",
       "      <th>1</th>\n",
       "      <td>101</td>\n",
       "      <td>C</td>\n",
       "    </tr>\n",
       "    <tr>\n",
       "      <th>2</th>\n",
       "      <td>400</td>\n",
       "      <td>B</td>\n",
       "    </tr>\n",
       "    <tr>\n",
       "      <th>3</th>\n",
       "      <td>98</td>\n",
       "      <td>C</td>\n",
       "    </tr>\n",
       "    <tr>\n",
       "      <th>4</th>\n",
       "      <td>103</td>\n",
       "      <td>C</td>\n",
       "    </tr>\n",
       "  </tbody>\n",
       "</table>\n",
       "</div>"
      ],
      "text/plain": [
       "    ID species\n",
       "0  284       C\n",
       "1  101       C\n",
       "2  400       B\n",
       "3   98       C\n",
       "4  103       C"
      ]
     },
     "execution_count": 3,
     "metadata": {},
     "output_type": "execute_result"
    }
   ],
   "source": [
    "df_tar = pd.read_csv(r'C:\\Users\\xchri\\OneDrive\\Documents\\bilgrit\\Bird challenge\\Bird Species Classification Dataset\\Dataset\\training_set\\training_target.csv')\n",
    "df_tar.head()"
   ]
  },
  {
   "cell_type": "code",
   "execution_count": 4,
   "id": "77572987",
   "metadata": {},
   "outputs": [],
   "source": [
    "# joining on ID column"
   ]
  },
  {
   "cell_type": "code",
   "execution_count": 5,
   "id": "bf40656d",
   "metadata": {},
   "outputs": [],
   "source": [
    "def get_train_data():\n",
    "    df = pd.merge(df_set, df_tar, how='inner', on = 'ID')\n",
    "    return df\n"
   ]
  },
  {
   "cell_type": "code",
   "execution_count": 6,
   "id": "391893e3",
   "metadata": {},
   "outputs": [],
   "source": [
    "def independent_encod(df,col):\n",
    "    from sklearn.preprocessing import LabelEncoder, OneHotEncoder\n",
    "    encoder = LabelEncoder()\n",
    "    df[col] = encoder.fit_transform(df[col].astype('str'))\n",
    "    cat_nan = encoder.transform(['nan'])[0]\n",
    "    df[col].replace(cat_nan,np.NAN,inplace = True)"
   ]
  },
  {
   "cell_type": "code",
   "execution_count": 7,
   "id": "27f2a626",
   "metadata": {},
   "outputs": [],
   "source": [
    "def encod_dependent(df,col):\n",
    "    from sklearn.preprocessing import LabelEncoder, OneHotEncoder\n",
    "    encoder = LabelEncoder()\n",
    "    df[col] = encoder.fit_transform(df[col].astype('str'))"
   ]
  },
  {
   "cell_type": "code",
   "execution_count": 8,
   "id": "82cd29a9",
   "metadata": {},
   "outputs": [],
   "source": [
    "def scaler(df):\n",
    "    from sklearn.preprocessing import MinMaxScaler\n",
    "    scaler = MinMaxScaler()\n",
    "    col_list = df.select_dtypes(exclude = 'object').columns\n",
    "    df[col_list] = scaler.fit_transform(df[col_list])\n",
    "    return df"
   ]
  },
  {
   "cell_type": "code",
   "execution_count": 9,
   "id": "aa239a7a",
   "metadata": {},
   "outputs": [],
   "source": [
    "def median_imputer(df):\n",
    "    from sklearn.impute import SimpleImputer\n",
    "    si = SimpleImputer(strategy='median')\n",
    "    df_num = df.select_dtypes(exclude='object')\n",
    "    col_list = df_num.loc[:,df_num.isnull().any()].columns\n",
    "    df[col_list] = si.fit_transform(df[col_list])\n",
    "    return df"
   ]
  },
  {
   "cell_type": "code",
   "execution_count": 10,
   "id": "4631f09a",
   "metadata": {},
   "outputs": [],
   "source": [
    "def mode_imputer(df):\n",
    "    from sklearn.impute import SimpleImputer\n",
    "    si = SimpleImputer(strategy='most_frequent')\n",
    "    df_num = df.select_dtypes(include='object')\n",
    "    col_list = df_num.loc[:,df_num.isnull().any()].columns\n",
    "    df[col_list] = si.fit_transform(df[col_list])\n",
    "    return df"
   ]
  },
  {
   "cell_type": "code",
   "execution_count": 11,
   "id": "22a44d1b",
   "metadata": {},
   "outputs": [],
   "source": [
    "# filling missing value \n",
    "def impute(df,col_list):\n",
    "    from sklearn.impute import KNNImputer, impute\n",
    "    knn = impute()\n",
    "    df[col_list] = knn.fit_transform(df[col_list])\n",
    "    return df"
   ]
  },
  {
   "cell_type": "code",
   "execution_count": 12,
   "id": "df8cc4f9",
   "metadata": {},
   "outputs": [],
   "source": [
    "def get_models():\n",
    "    models = []\n",
    "    models.append(LogisticRegression())\n",
    "    models.append(DecisionTreeClassifier())\n",
    "    models.append(RandomForestClassifier())\n",
    "    models.append(GaussianNB())\n",
    "    models.append(SGDClassifier())\n",
    "    models.append(KNeighborsClassifier())\n",
    "    models.append(SVC())\n",
    "    return models"
   ]
  },
  {
   "cell_type": "code",
   "execution_count": 13,
   "id": "a58d2c14",
   "metadata": {},
   "outputs": [],
   "source": [
    "def train_test_split(df):\n",
    "    x = df.drop('species',axis = 1)\n",
    "    y = df['species']\n",
    "    from sklearn.model_selection import train_test_split\n",
    "    xtrain,xtest,ytrain,ytest = train_test_split(x,y,test_size=0.3,random_state=0)\n",
    "    return xtrain,xtest,ytrain,ytest"
   ]
  },
  {
   "cell_type": "code",
   "execution_count": 14,
   "id": "dd6893e0",
   "metadata": {},
   "outputs": [],
   "source": [
    "def central_tendency(df):\n",
    "    mean = []\n",
    "    median = []\n",
    "    mode = []\n",
    "    skew = []\n",
    "    df_dummy = pd.DataFrame(index = df.columns)\n",
    "    for col in df.columns:\n",
    "        mean.append(round(df[col].mean(),2))\n",
    "        median.append(round(df[col].median(),2))\n",
    "        mode.append(round(df[col].mode()[0],2))\n",
    "        skew.append(round(df[col].skew(),2))\n",
    "\n",
    "    df_dummy['mean'] = mean\n",
    "    df_dummy['median'] = median\n",
    "    df_dummy['mode'] = mode\n",
    "    df_dummy['skew'] = skew\n",
    "    return df_dummy"
   ]
  },
  {
   "cell_type": "code",
   "execution_count": 15,
   "id": "68931f9a",
   "metadata": {},
   "outputs": [],
   "source": [
    "def redundant_removal(df):\n",
    "    df = df.drop(df.corr()[(df.corr()['species']<0.5)&(df.corr()['species']>-0.5)].index,axis = 1)\n",
    "    return df"
   ]
  },
  {
   "cell_type": "markdown",
   "id": "15ff58ef",
   "metadata": {},
   "source": [
    "# loading data"
   ]
  },
  {
   "cell_type": "code",
   "execution_count": 16,
   "id": "d84454c8",
   "metadata": {},
   "outputs": [
    {
     "data": {
      "text/html": [
       "<div>\n",
       "<style scoped>\n",
       "    .dataframe tbody tr th:only-of-type {\n",
       "        vertical-align: middle;\n",
       "    }\n",
       "\n",
       "    .dataframe tbody tr th {\n",
       "        vertical-align: top;\n",
       "    }\n",
       "\n",
       "    .dataframe thead th {\n",
       "        text-align: right;\n",
       "    }\n",
       "</style>\n",
       "<table border=\"1\" class=\"dataframe\">\n",
       "  <thead>\n",
       "    <tr style=\"text-align: right;\">\n",
       "      <th></th>\n",
       "      <th>bill_depth</th>\n",
       "      <th>bill_length</th>\n",
       "      <th>wing_length</th>\n",
       "      <th>location</th>\n",
       "      <th>mass</th>\n",
       "      <th>sex</th>\n",
       "      <th>ID</th>\n",
       "      <th>species</th>\n",
       "    </tr>\n",
       "  </thead>\n",
       "  <tbody>\n",
       "    <tr>\n",
       "      <th>0</th>\n",
       "      <td>14.300000</td>\n",
       "      <td>48.200000</td>\n",
       "      <td>210.000000</td>\n",
       "      <td>loc_2</td>\n",
       "      <td>4600.0</td>\n",
       "      <td>0.0</td>\n",
       "      <td>284</td>\n",
       "      <td>C</td>\n",
       "    </tr>\n",
       "    <tr>\n",
       "      <th>1</th>\n",
       "      <td>14.400000</td>\n",
       "      <td>48.400000</td>\n",
       "      <td>203.000000</td>\n",
       "      <td>loc_2</td>\n",
       "      <td>4625.0</td>\n",
       "      <td>0.0</td>\n",
       "      <td>101</td>\n",
       "      <td>C</td>\n",
       "    </tr>\n",
       "    <tr>\n",
       "      <th>2</th>\n",
       "      <td>18.400000</td>\n",
       "      <td>NaN</td>\n",
       "      <td>200.000000</td>\n",
       "      <td>loc_3</td>\n",
       "      <td>3400.0</td>\n",
       "      <td>0.0</td>\n",
       "      <td>400</td>\n",
       "      <td>B</td>\n",
       "    </tr>\n",
       "    <tr>\n",
       "      <th>3</th>\n",
       "      <td>14.982114</td>\n",
       "      <td>47.504878</td>\n",
       "      <td>NaN</td>\n",
       "      <td>NaN</td>\n",
       "      <td>4800.0</td>\n",
       "      <td>0.0</td>\n",
       "      <td>98</td>\n",
       "      <td>C</td>\n",
       "    </tr>\n",
       "    <tr>\n",
       "      <th>4</th>\n",
       "      <td>18.982114</td>\n",
       "      <td>38.259307</td>\n",
       "      <td>217.186992</td>\n",
       "      <td>loc_3</td>\n",
       "      <td>5200.0</td>\n",
       "      <td>0.0</td>\n",
       "      <td>103</td>\n",
       "      <td>C</td>\n",
       "    </tr>\n",
       "  </tbody>\n",
       "</table>\n",
       "</div>"
      ],
      "text/plain": [
       "   bill_depth  bill_length  wing_length location    mass  sex   ID species\n",
       "0   14.300000    48.200000   210.000000    loc_2  4600.0  0.0  284       C\n",
       "1   14.400000    48.400000   203.000000    loc_2  4625.0  0.0  101       C\n",
       "2   18.400000          NaN   200.000000    loc_3  3400.0  0.0  400       B\n",
       "3   14.982114    47.504878          NaN      NaN  4800.0  0.0   98       C\n",
       "4   18.982114    38.259307   217.186992    loc_3  5200.0  0.0  103       C"
      ]
     },
     "execution_count": 16,
     "metadata": {},
     "output_type": "execute_result"
    }
   ],
   "source": [
    "df = get_train_data()\n",
    "df.head()"
   ]
  },
  {
   "cell_type": "code",
   "execution_count": 17,
   "id": "fb3fbe2d",
   "metadata": {},
   "outputs": [
    {
     "data": {
      "text/plain": [
       "C    182\n",
       "A    160\n",
       "B     93\n",
       "Name: species, dtype: int64"
      ]
     },
     "execution_count": 17,
     "metadata": {},
     "output_type": "execute_result"
    }
   ],
   "source": [
    "df['species'].value_counts()"
   ]
  },
  {
   "cell_type": "markdown",
   "id": "b4a162cf",
   "metadata": {},
   "source": [
    "# encoding"
   ]
  },
  {
   "cell_type": "code",
   "execution_count": 18,
   "id": "20fcd58a",
   "metadata": {},
   "outputs": [
    {
     "data": {
      "text/html": [
       "<div>\n",
       "<style scoped>\n",
       "    .dataframe tbody tr th:only-of-type {\n",
       "        vertical-align: middle;\n",
       "    }\n",
       "\n",
       "    .dataframe tbody tr th {\n",
       "        vertical-align: top;\n",
       "    }\n",
       "\n",
       "    .dataframe thead th {\n",
       "        text-align: right;\n",
       "    }\n",
       "</style>\n",
       "<table border=\"1\" class=\"dataframe\">\n",
       "  <thead>\n",
       "    <tr style=\"text-align: right;\">\n",
       "      <th></th>\n",
       "      <th>bill_depth</th>\n",
       "      <th>bill_length</th>\n",
       "      <th>wing_length</th>\n",
       "      <th>location</th>\n",
       "      <th>mass</th>\n",
       "      <th>sex</th>\n",
       "      <th>ID</th>\n",
       "      <th>species</th>\n",
       "    </tr>\n",
       "  </thead>\n",
       "  <tbody>\n",
       "    <tr>\n",
       "      <th>0</th>\n",
       "      <td>14.300000</td>\n",
       "      <td>48.200000</td>\n",
       "      <td>210.000000</td>\n",
       "      <td>1.0</td>\n",
       "      <td>4600.0</td>\n",
       "      <td>0.0</td>\n",
       "      <td>284</td>\n",
       "      <td>2</td>\n",
       "    </tr>\n",
       "    <tr>\n",
       "      <th>1</th>\n",
       "      <td>14.400000</td>\n",
       "      <td>48.400000</td>\n",
       "      <td>203.000000</td>\n",
       "      <td>1.0</td>\n",
       "      <td>4625.0</td>\n",
       "      <td>0.0</td>\n",
       "      <td>101</td>\n",
       "      <td>2</td>\n",
       "    </tr>\n",
       "    <tr>\n",
       "      <th>2</th>\n",
       "      <td>18.400000</td>\n",
       "      <td>NaN</td>\n",
       "      <td>200.000000</td>\n",
       "      <td>2.0</td>\n",
       "      <td>3400.0</td>\n",
       "      <td>0.0</td>\n",
       "      <td>400</td>\n",
       "      <td>1</td>\n",
       "    </tr>\n",
       "    <tr>\n",
       "      <th>3</th>\n",
       "      <td>14.982114</td>\n",
       "      <td>47.504878</td>\n",
       "      <td>NaN</td>\n",
       "      <td>NaN</td>\n",
       "      <td>4800.0</td>\n",
       "      <td>0.0</td>\n",
       "      <td>98</td>\n",
       "      <td>2</td>\n",
       "    </tr>\n",
       "    <tr>\n",
       "      <th>4</th>\n",
       "      <td>18.982114</td>\n",
       "      <td>38.259307</td>\n",
       "      <td>217.186992</td>\n",
       "      <td>2.0</td>\n",
       "      <td>5200.0</td>\n",
       "      <td>0.0</td>\n",
       "      <td>103</td>\n",
       "      <td>2</td>\n",
       "    </tr>\n",
       "  </tbody>\n",
       "</table>\n",
       "</div>"
      ],
      "text/plain": [
       "   bill_depth  bill_length  wing_length  location    mass  sex   ID  species\n",
       "0   14.300000    48.200000   210.000000       1.0  4600.0  0.0  284        2\n",
       "1   14.400000    48.400000   203.000000       1.0  4625.0  0.0  101        2\n",
       "2   18.400000          NaN   200.000000       2.0  3400.0  0.0  400        1\n",
       "3   14.982114    47.504878          NaN       NaN  4800.0  0.0   98        2\n",
       "4   18.982114    38.259307   217.186992       2.0  5200.0  0.0  103        2"
      ]
     },
     "execution_count": 18,
     "metadata": {},
     "output_type": "execute_result"
    }
   ],
   "source": [
    "independent_encod(df,'location')\n",
    "independent_encod(df,'sex')\n",
    "encod_dependent(df,'species')\n",
    "df.head()"
   ]
  },
  {
   "cell_type": "code",
   "execution_count": 19,
   "id": "b813a38e",
   "metadata": {},
   "outputs": [
    {
     "data": {
      "text/plain": [
       "2    182\n",
       "0    160\n",
       "1     93\n",
       "Name: species, dtype: int64"
      ]
     },
     "execution_count": 19,
     "metadata": {},
     "output_type": "execute_result"
    }
   ],
   "source": [
    "df['species'].value_counts()"
   ]
  },
  {
   "cell_type": "code",
   "execution_count": 20,
   "id": "e0878956",
   "metadata": {},
   "outputs": [
    {
     "data": {
      "text/plain": [
       "bill_depth     float64\n",
       "bill_length    float64\n",
       "wing_length    float64\n",
       "location       float64\n",
       "mass           float64\n",
       "sex            float64\n",
       "ID               int64\n",
       "species          int32\n",
       "dtype: object"
      ]
     },
     "execution_count": 20,
     "metadata": {},
     "output_type": "execute_result"
    }
   ],
   "source": [
    "df.dtypes"
   ]
  },
  {
   "cell_type": "code",
   "execution_count": 21,
   "id": "9716f243",
   "metadata": {},
   "outputs": [],
   "source": [
    "# location and sex are categorical columns\n",
    "df['location'] = df['location'].astype('object')\n",
    "df['sex'] = df['sex'].astype('object')"
   ]
  },
  {
   "cell_type": "code",
   "execution_count": 22,
   "id": "3c86d61d",
   "metadata": {},
   "outputs": [
    {
     "data": {
      "text/plain": [
       "bill_depth     float64\n",
       "bill_length    float64\n",
       "wing_length    float64\n",
       "location        object\n",
       "mass           float64\n",
       "sex             object\n",
       "ID               int64\n",
       "species          int32\n",
       "dtype: object"
      ]
     },
     "execution_count": 22,
     "metadata": {},
     "output_type": "execute_result"
    }
   ],
   "source": [
    "df.dtypes"
   ]
  },
  {
   "cell_type": "code",
   "execution_count": 23,
   "id": "b8789873",
   "metadata": {},
   "outputs": [
    {
     "data": {
      "image/png": "[encoded data removed]",
      "text/plain": [
       "<Figure size 1080x720 with 2 Axes>"
      ]
     },
     "metadata": {
      "needs_background": "light"
     },
     "output_type": "display_data"
    }
   ],
   "source": [
    "# correlation matrix\n",
    "plt.figure(figsize = (15,10))\n",
    "sns.heatmap(df.corr(),annot = True)\n",
    "plt.show()"
   ]
  },
  {
   "cell_type": "markdown",
   "id": "9451472d",
   "metadata": {},
   "source": [
    "# redundant columns removal"
   ]
  },
  {
   "cell_type": "raw",
   "id": "cfe4c7ad",
   "metadata": {},
   "source": [
    "df = redundant_removal(df) # final dataset"
   ]
  },
  {
   "cell_type": "code",
   "execution_count": 24,
   "id": "b99a26a1",
   "metadata": {},
   "outputs": [],
   "source": [
    "df.drop('ID',axis = 1,inplace = True)"
   ]
  },
  {
   "cell_type": "code",
   "execution_count": 25,
   "id": "b4d63522",
   "metadata": {},
   "outputs": [
    {
     "data": {
      "text/html": [
       "<div>\n",
       "<style scoped>\n",
       "    .dataframe tbody tr th:only-of-type {\n",
       "        vertical-align: middle;\n",
       "    }\n",
       "\n",
       "    .dataframe tbody tr th {\n",
       "        vertical-align: top;\n",
       "    }\n",
       "\n",
       "    .dataframe thead th {\n",
       "        text-align: right;\n",
       "    }\n",
       "</style>\n",
       "<table border=\"1\" class=\"dataframe\">\n",
       "  <thead>\n",
       "    <tr style=\"text-align: right;\">\n",
       "      <th></th>\n",
       "      <th>bill_depth</th>\n",
       "      <th>bill_length</th>\n",
       "      <th>wing_length</th>\n",
       "      <th>location</th>\n",
       "      <th>mass</th>\n",
       "      <th>sex</th>\n",
       "      <th>species</th>\n",
       "    </tr>\n",
       "  </thead>\n",
       "  <tbody>\n",
       "    <tr>\n",
       "      <th>0</th>\n",
       "      <td>14.300000</td>\n",
       "      <td>48.200000</td>\n",
       "      <td>210.000000</td>\n",
       "      <td>1.0</td>\n",
       "      <td>4600.0</td>\n",
       "      <td>0.0</td>\n",
       "      <td>2</td>\n",
       "    </tr>\n",
       "    <tr>\n",
       "      <th>1</th>\n",
       "      <td>14.400000</td>\n",
       "      <td>48.400000</td>\n",
       "      <td>203.000000</td>\n",
       "      <td>1.0</td>\n",
       "      <td>4625.0</td>\n",
       "      <td>0.0</td>\n",
       "      <td>2</td>\n",
       "    </tr>\n",
       "    <tr>\n",
       "      <th>2</th>\n",
       "      <td>18.400000</td>\n",
       "      <td>NaN</td>\n",
       "      <td>200.000000</td>\n",
       "      <td>2.0</td>\n",
       "      <td>3400.0</td>\n",
       "      <td>0.0</td>\n",
       "      <td>1</td>\n",
       "    </tr>\n",
       "    <tr>\n",
       "      <th>3</th>\n",
       "      <td>14.982114</td>\n",
       "      <td>47.504878</td>\n",
       "      <td>NaN</td>\n",
       "      <td>NaN</td>\n",
       "      <td>4800.0</td>\n",
       "      <td>0.0</td>\n",
       "      <td>2</td>\n",
       "    </tr>\n",
       "    <tr>\n",
       "      <th>4</th>\n",
       "      <td>18.982114</td>\n",
       "      <td>38.259307</td>\n",
       "      <td>217.186992</td>\n",
       "      <td>2.0</td>\n",
       "      <td>5200.0</td>\n",
       "      <td>0.0</td>\n",
       "      <td>2</td>\n",
       "    </tr>\n",
       "  </tbody>\n",
       "</table>\n",
       "</div>"
      ],
      "text/plain": [
       "   bill_depth  bill_length  wing_length location    mass  sex  species\n",
       "0   14.300000    48.200000   210.000000      1.0  4600.0  0.0        2\n",
       "1   14.400000    48.400000   203.000000      1.0  4625.0  0.0        2\n",
       "2   18.400000          NaN   200.000000      2.0  3400.0  0.0        1\n",
       "3   14.982114    47.504878          NaN      NaN  4800.0  0.0        2\n",
       "4   18.982114    38.259307   217.186992      2.0  5200.0  0.0        2"
      ]
     },
     "execution_count": 25,
     "metadata": {},
     "output_type": "execute_result"
    }
   ],
   "source": [
    "df.head()"
   ]
  },
  {
   "cell_type": "markdown",
   "id": "b867d5f0",
   "metadata": {},
   "source": [
    "# treating missing values"
   ]
  },
  {
   "cell_type": "code",
   "execution_count": 26,
   "id": "279d768f",
   "metadata": {},
   "outputs": [
    {
     "data": {
      "text/html": [
       "<div>\n",
       "<style scoped>\n",
       "    .dataframe tbody tr th:only-of-type {\n",
       "        vertical-align: middle;\n",
       "    }\n",
       "\n",
       "    .dataframe tbody tr th {\n",
       "        vertical-align: top;\n",
       "    }\n",
       "\n",
       "    .dataframe thead th {\n",
       "        text-align: right;\n",
       "    }\n",
       "</style>\n",
       "<table border=\"1\" class=\"dataframe\">\n",
       "  <thead>\n",
       "    <tr style=\"text-align: right;\">\n",
       "      <th></th>\n",
       "      <th>bill_depth</th>\n",
       "      <th>bill_length</th>\n",
       "      <th>wing_length</th>\n",
       "      <th>location</th>\n",
       "      <th>mass</th>\n",
       "      <th>sex</th>\n",
       "      <th>species</th>\n",
       "    </tr>\n",
       "  </thead>\n",
       "  <tbody>\n",
       "    <tr>\n",
       "      <th>0</th>\n",
       "      <td>14.300000</td>\n",
       "      <td>48.200000</td>\n",
       "      <td>210.000000</td>\n",
       "      <td>1.0</td>\n",
       "      <td>4600.0</td>\n",
       "      <td>0.0</td>\n",
       "      <td>2</td>\n",
       "    </tr>\n",
       "    <tr>\n",
       "      <th>1</th>\n",
       "      <td>14.400000</td>\n",
       "      <td>48.400000</td>\n",
       "      <td>203.000000</td>\n",
       "      <td>1.0</td>\n",
       "      <td>4625.0</td>\n",
       "      <td>0.0</td>\n",
       "      <td>2</td>\n",
       "    </tr>\n",
       "    <tr>\n",
       "      <th>2</th>\n",
       "      <td>18.400000</td>\n",
       "      <td>NaN</td>\n",
       "      <td>200.000000</td>\n",
       "      <td>2.0</td>\n",
       "      <td>3400.0</td>\n",
       "      <td>0.0</td>\n",
       "      <td>1</td>\n",
       "    </tr>\n",
       "    <tr>\n",
       "      <th>3</th>\n",
       "      <td>14.982114</td>\n",
       "      <td>47.504878</td>\n",
       "      <td>NaN</td>\n",
       "      <td>NaN</td>\n",
       "      <td>4800.0</td>\n",
       "      <td>0.0</td>\n",
       "      <td>2</td>\n",
       "    </tr>\n",
       "    <tr>\n",
       "      <th>4</th>\n",
       "      <td>18.982114</td>\n",
       "      <td>38.259307</td>\n",
       "      <td>217.186992</td>\n",
       "      <td>2.0</td>\n",
       "      <td>5200.0</td>\n",
       "      <td>0.0</td>\n",
       "      <td>2</td>\n",
       "    </tr>\n",
       "  </tbody>\n",
       "</table>\n",
       "</div>"
      ],
      "text/plain": [
       "   bill_depth  bill_length  wing_length location    mass  sex  species\n",
       "0   14.300000    48.200000   210.000000      1.0  4600.0  0.0        2\n",
       "1   14.400000    48.400000   203.000000      1.0  4625.0  0.0        2\n",
       "2   18.400000          NaN   200.000000      2.0  3400.0  0.0        1\n",
       "3   14.982114    47.504878          NaN      NaN  4800.0  0.0        2\n",
       "4   18.982114    38.259307   217.186992      2.0  5200.0  0.0        2"
      ]
     },
     "execution_count": 26,
     "metadata": {},
     "output_type": "execute_result"
    }
   ],
   "source": [
    "df.head()"
   ]
  },
  {
   "cell_type": "code",
   "execution_count": 27,
   "id": "b16ba195",
   "metadata": {},
   "outputs": [],
   "source": [
    "#df.loc[:,df.isnull().any()].columns"
   ]
  },
  {
   "cell_type": "code",
   "execution_count": 28,
   "id": "d87cb5ec",
   "metadata": {},
   "outputs": [
    {
     "data": {
      "text/html": [
       "<div>\n",
       "<style scoped>\n",
       "    .dataframe tbody tr th:only-of-type {\n",
       "        vertical-align: middle;\n",
       "    }\n",
       "\n",
       "    .dataframe tbody tr th {\n",
       "        vertical-align: top;\n",
       "    }\n",
       "\n",
       "    .dataframe thead th {\n",
       "        text-align: right;\n",
       "    }\n",
       "</style>\n",
       "<table border=\"1\" class=\"dataframe\">\n",
       "  <thead>\n",
       "    <tr style=\"text-align: right;\">\n",
       "      <th></th>\n",
       "      <th>bill_depth</th>\n",
       "      <th>bill_length</th>\n",
       "      <th>wing_length</th>\n",
       "      <th>location</th>\n",
       "      <th>mass</th>\n",
       "      <th>sex</th>\n",
       "      <th>species</th>\n",
       "    </tr>\n",
       "  </thead>\n",
       "  <tbody>\n",
       "    <tr>\n",
       "      <th>0</th>\n",
       "      <td>14.300000</td>\n",
       "      <td>48.200000</td>\n",
       "      <td>210.000000</td>\n",
       "      <td>1.0</td>\n",
       "      <td>4600.0</td>\n",
       "      <td>0.0</td>\n",
       "      <td>2</td>\n",
       "    </tr>\n",
       "    <tr>\n",
       "      <th>1</th>\n",
       "      <td>14.400000</td>\n",
       "      <td>48.400000</td>\n",
       "      <td>203.000000</td>\n",
       "      <td>1.0</td>\n",
       "      <td>4625.0</td>\n",
       "      <td>0.0</td>\n",
       "      <td>2</td>\n",
       "    </tr>\n",
       "    <tr>\n",
       "      <th>2</th>\n",
       "      <td>18.400000</td>\n",
       "      <td>47.500000</td>\n",
       "      <td>200.000000</td>\n",
       "      <td>2.0</td>\n",
       "      <td>3400.0</td>\n",
       "      <td>0.0</td>\n",
       "      <td>1</td>\n",
       "    </tr>\n",
       "    <tr>\n",
       "      <th>3</th>\n",
       "      <td>14.982114</td>\n",
       "      <td>47.504878</td>\n",
       "      <td>199.000000</td>\n",
       "      <td>1.0</td>\n",
       "      <td>4800.0</td>\n",
       "      <td>0.0</td>\n",
       "      <td>2</td>\n",
       "    </tr>\n",
       "    <tr>\n",
       "      <th>4</th>\n",
       "      <td>18.982114</td>\n",
       "      <td>38.259307</td>\n",
       "      <td>217.186992</td>\n",
       "      <td>2.0</td>\n",
       "      <td>5200.0</td>\n",
       "      <td>0.0</td>\n",
       "      <td>2</td>\n",
       "    </tr>\n",
       "  </tbody>\n",
       "</table>\n",
       "</div>"
      ],
      "text/plain": [
       "   bill_depth  bill_length  wing_length location    mass  sex  species\n",
       "0   14.300000    48.200000   210.000000      1.0  4600.0  0.0        2\n",
       "1   14.400000    48.400000   203.000000      1.0  4625.0  0.0        2\n",
       "2   18.400000    47.500000   200.000000      2.0  3400.0  0.0        1\n",
       "3   14.982114    47.504878   199.000000      1.0  4800.0  0.0        2\n",
       "4   18.982114    38.259307   217.186992      2.0  5200.0  0.0        2"
      ]
     },
     "execution_count": 28,
     "metadata": {},
     "output_type": "execute_result"
    }
   ],
   "source": [
    "df_filled = median_imputer(df)\n",
    "\n",
    "df_filled = mode_imputer(df_filled)\n",
    "\n",
    "df_filled.head()"
   ]
  },
  {
   "cell_type": "code",
   "execution_count": 29,
   "id": "9c64c6b2",
   "metadata": {},
   "outputs": [
    {
     "data": {
      "text/plain": [
       "bill_depth     0\n",
       "bill_length    0\n",
       "wing_length    0\n",
       "location       0\n",
       "mass           0\n",
       "sex            0\n",
       "species        0\n",
       "dtype: int64"
      ]
     },
     "execution_count": 29,
     "metadata": {},
     "output_type": "execute_result"
    }
   ],
   "source": [
    "df_filled.isnull().sum()"
   ]
  },
  {
   "cell_type": "markdown",
   "id": "1f6cd2af",
   "metadata": {},
   "source": [
    "# correlation check"
   ]
  },
  {
   "cell_type": "markdown",
   "id": "a0738257",
   "metadata": {},
   "source": [
    "### continuous and categorical column"
   ]
  },
  {
   "cell_type": "code",
   "execution_count": 30,
   "id": "343c5c8d",
   "metadata": {},
   "outputs": [],
   "source": [
    "# hypothesis\n",
    "# h0 --> both columns are not related to each other\n",
    "# h1 --> both columns are related to each other"
   ]
  },
  {
   "cell_type": "markdown",
   "id": "7be040cc",
   "metadata": {},
   "source": [
    "### bill_length vs species"
   ]
  },
  {
   "cell_type": "code",
   "execution_count": 41,
   "id": "94b6ecf9",
   "metadata": {},
   "outputs": [
    {
     "name": "stdout",
     "output_type": "stream",
     "text": [
      "F-statistic: 46.7550178935733\n",
      "p-value: 4.159012547095216e-19\n"
     ]
    }
   ],
   "source": [
    "\n",
    "\n",
    "\n",
    "# Separate the continuous and categorical variables\n",
    "continuous_var = df_filled['bill_length']\n",
    "categorical_var = df_filled['species']\n",
    "\n",
    "# Use one-way ANOVA to calculate the correlation\n",
    "f_stat, p_val = f_oneway(continuous_var[categorical_var==0],\n",
    "                         continuous_var[categorical_var==1],\n",
    "                         continuous_var[categorical_var==2])\n",
    "\n",
    "# Print the F-statistic and its significance level\n",
    "print('F-statistic:', f_stat)\n",
    "print('p-value:', p_val)"
   ]
  },
  {
   "cell_type": "code",
   "execution_count": 32,
   "id": "26f6e474",
   "metadata": {},
   "outputs": [],
   "source": [
    "# we fail to accept the null hypothesis. bill_length is correlated to target column"
   ]
  },
  {
   "cell_type": "markdown",
   "id": "8728576a",
   "metadata": {},
   "source": [
    "### bill_depth vs species"
   ]
  },
  {
   "cell_type": "code",
   "execution_count": 42,
   "id": "b3186deb",
   "metadata": {},
   "outputs": [
    {
     "name": "stdout",
     "output_type": "stream",
     "text": [
      "F-statistic: 161.95333628880493\n",
      "p-value: 3.2761415016384325e-53\n"
     ]
    }
   ],
   "source": [
    "\n",
    "\n",
    "# Separate the continuous and categorical variables\n",
    "continuous_var = df_filled['bill_depth']\n",
    "categorical_var = df_filled['species']\n",
    "\n",
    "# Use one-way ANOVA to calculate the correlation\n",
    "f_stat, p_val = f_oneway(continuous_var[categorical_var==0],\n",
    "                         continuous_var[categorical_var==1],\n",
    "                         continuous_var[categorical_var==2])\n",
    "\n",
    "# Print the F-statistic and its significance level\n",
    "print('F-statistic:', f_stat)\n",
    "print('p-value:', p_val)"
   ]
  },
  {
   "cell_type": "code",
   "execution_count": 34,
   "id": "1762df4e",
   "metadata": {},
   "outputs": [],
   "source": [
    "# we fail to accept the null hypothesis. bill_depth is correlated to target column"
   ]
  },
  {
   "cell_type": "markdown",
   "id": "4187257c",
   "metadata": {},
   "source": [
    "### wing_length vs species"
   ]
  },
  {
   "cell_type": "code",
   "execution_count": 43,
   "id": "c9d37424",
   "metadata": {},
   "outputs": [
    {
     "name": "stdout",
     "output_type": "stream",
     "text": [
      "F-statistic: 164.053278554196\n",
      "p-value: 9.899239785449621e-54\n"
     ]
    }
   ],
   "source": [
    "# Separate the continuous and categorical variables\n",
    "continuous_var = df_filled['wing_length']\n",
    "categorical_var = df_filled['species']\n",
    "\n",
    "# Use one-way ANOVA to calculate the correlation\n",
    "f_stat, p_val = f_oneway(continuous_var[categorical_var==0],\n",
    "                         continuous_var[categorical_var==1],\n",
    "                         continuous_var[categorical_var==2])\n",
    "\n",
    "# Print the F-statistic and its significance level\n",
    "print('F-statistic:', f_stat)\n",
    "print('p-value:', p_val)"
   ]
  },
  {
   "cell_type": "code",
   "execution_count": 36,
   "id": "1b6dc059",
   "metadata": {},
   "outputs": [],
   "source": [
    "# we fail to accept the null hypothesis. wing_length is correlated to target column"
   ]
  },
  {
   "cell_type": "markdown",
   "id": "ef4d6272",
   "metadata": {},
   "source": [
    "### mass vs species"
   ]
  },
  {
   "cell_type": "code",
   "execution_count": 44,
   "id": "95c04a0d",
   "metadata": {},
   "outputs": [
    {
     "name": "stdout",
     "output_type": "stream",
     "text": [
      "F-statistic: 427.7327020367708\n",
      "p-value: 3.644237465248228e-103\n"
     ]
    }
   ],
   "source": [
    "# Separate the continuous and categorical variables\n",
    "continuous_var = df_filled['mass']\n",
    "categorical_var = df_filled['species']\n",
    "\n",
    "# Use one-way ANOVA to calculate the correlation\n",
    "f_stat, p_val = f_oneway(continuous_var[categorical_var==0],\n",
    "                         continuous_var[categorical_var==1],\n",
    "                         continuous_var[categorical_var==2])\n",
    "\n",
    "# Print the F-statistic and its significance level\n",
    "print('F-statistic:', f_stat)\n",
    "print('p-value:', p_val)"
   ]
  },
  {
   "cell_type": "code",
   "execution_count": 38,
   "id": "72bf3882",
   "metadata": {},
   "outputs": [],
   "source": [
    "# we fail to accept the null hypothesis. mass is correlated to target column"
   ]
  },
  {
   "cell_type": "markdown",
   "id": "292a3ad0",
   "metadata": {},
   "source": [
    "# Location vs species"
   ]
  },
  {
   "cell_type": "code",
   "execution_count": 46,
   "id": "da64d1c1",
   "metadata": {},
   "outputs": [
    {
     "data": {
      "text/html": [
       "<div>\n",
       "<style scoped>\n",
       "    .dataframe tbody tr th:only-of-type {\n",
       "        vertical-align: middle;\n",
       "    }\n",
       "\n",
       "    .dataframe tbody tr th {\n",
       "        vertical-align: top;\n",
       "    }\n",
       "\n",
       "    .dataframe thead th {\n",
       "        text-align: right;\n",
       "    }\n",
       "</style>\n",
       "<table border=\"1\" class=\"dataframe\">\n",
       "  <thead>\n",
       "    <tr style=\"text-align: right;\">\n",
       "      <th>species</th>\n",
       "      <th>0</th>\n",
       "      <th>1</th>\n",
       "      <th>2</th>\n",
       "    </tr>\n",
       "    <tr>\n",
       "      <th>location</th>\n",
       "      <th></th>\n",
       "      <th></th>\n",
       "      <th></th>\n",
       "    </tr>\n",
       "  </thead>\n",
       "  <tbody>\n",
       "    <tr>\n",
       "      <th>0.0</th>\n",
       "      <td>55</td>\n",
       "      <td>11</td>\n",
       "      <td>17</td>\n",
       "    </tr>\n",
       "    <tr>\n",
       "      <th>1.0</th>\n",
       "      <td>42</td>\n",
       "      <td>24</td>\n",
       "      <td>145</td>\n",
       "    </tr>\n",
       "    <tr>\n",
       "      <th>2.0</th>\n",
       "      <td>63</td>\n",
       "      <td>58</td>\n",
       "      <td>20</td>\n",
       "    </tr>\n",
       "  </tbody>\n",
       "</table>\n",
       "</div>"
      ],
      "text/plain": [
       "species    0   1    2\n",
       "location             \n",
       "0.0       55  11   17\n",
       "1.0       42  24  145\n",
       "2.0       63  58   20"
      ]
     },
     "execution_count": 46,
     "metadata": {},
     "output_type": "execute_result"
    }
   ],
   "source": [
    "# categorical columns\n",
    "crosstab = pd.crosstab(index=df_filled['location'], columns=df_filled['species'])\n",
    "crosstab"
   ]
  },
  {
   "cell_type": "code",
   "execution_count": 47,
   "id": "6c5e49d7",
   "metadata": {},
   "outputs": [],
   "source": [
    "chi2_results = chi2_contingency(crosstab)"
   ]
  },
  {
   "cell_type": "code",
   "execution_count": 48,
   "id": "d781639e",
   "metadata": {},
   "outputs": [
    {
     "data": {
      "text/plain": [
       "6.049881179660023e-31"
      ]
     },
     "execution_count": 48,
     "metadata": {},
     "output_type": "execute_result"
    }
   ],
   "source": [
    "pvalue = chi2_results[1]\n",
    "pvalue"
   ]
  },
  {
   "cell_type": "code",
   "execution_count": 49,
   "id": "d6fa7ed2",
   "metadata": {},
   "outputs": [],
   "source": [
    "# we fail to accept hypothesis. The both columns are related to each other."
   ]
  },
  {
   "cell_type": "markdown",
   "id": "76bf9aa4",
   "metadata": {},
   "source": [
    "# Sex vs species"
   ]
  },
  {
   "cell_type": "code",
   "execution_count": 112,
   "id": "b799581b",
   "metadata": {},
   "outputs": [],
   "source": [
    "df_filled['sex'] = df_filled['sex'].replace({0.0:0,1.0:1})\n",
    "df_filled['sex'] = df_filled['sex'].astype('object')"
   ]
  },
  {
   "cell_type": "code",
   "execution_count": 113,
   "id": "2021671d",
   "metadata": {},
   "outputs": [
    {
     "data": {
      "text/html": [
       "<div>\n",
       "<style scoped>\n",
       "    .dataframe tbody tr th:only-of-type {\n",
       "        vertical-align: middle;\n",
       "    }\n",
       "\n",
       "    .dataframe tbody tr th {\n",
       "        vertical-align: top;\n",
       "    }\n",
       "\n",
       "    .dataframe thead th {\n",
       "        text-align: right;\n",
       "    }\n",
       "</style>\n",
       "<table border=\"1\" class=\"dataframe\">\n",
       "  <thead>\n",
       "    <tr style=\"text-align: right;\">\n",
       "      <th>species</th>\n",
       "      <th>0</th>\n",
       "      <th>1</th>\n",
       "      <th>2</th>\n",
       "    </tr>\n",
       "    <tr>\n",
       "      <th>sex</th>\n",
       "      <th></th>\n",
       "      <th></th>\n",
       "      <th></th>\n",
       "    </tr>\n",
       "  </thead>\n",
       "  <tbody>\n",
       "    <tr>\n",
       "      <th>0</th>\n",
       "      <td>68</td>\n",
       "      <td>42</td>\n",
       "      <td>74</td>\n",
       "    </tr>\n",
       "    <tr>\n",
       "      <th>1</th>\n",
       "      <td>92</td>\n",
       "      <td>51</td>\n",
       "      <td>108</td>\n",
       "    </tr>\n",
       "  </tbody>\n",
       "</table>\n",
       "</div>"
      ],
      "text/plain": [
       "species   0   1    2\n",
       "sex                 \n",
       "0        68  42   74\n",
       "1        92  51  108"
      ]
     },
     "execution_count": 113,
     "metadata": {},
     "output_type": "execute_result"
    }
   ],
   "source": [
    "# sex vs species\n",
    "crosstab = pd.crosstab(index=df_filled['sex'], columns=df_filled['species'])\n",
    "crosstab"
   ]
  },
  {
   "cell_type": "code",
   "execution_count": 51,
   "id": "85c72e0a",
   "metadata": {},
   "outputs": [],
   "source": [
    "# hypothesis\n",
    "# h0 --> both columns are not related to each other\n",
    "# h1 --> both columns are related to each other"
   ]
  },
  {
   "cell_type": "code",
   "execution_count": 114,
   "id": "87a1c2c9",
   "metadata": {},
   "outputs": [],
   "source": [
    "chi2_results = chi2_contingency(crosstab)"
   ]
  },
  {
   "cell_type": "code",
   "execution_count": 115,
   "id": "1c2d1ff1",
   "metadata": {},
   "outputs": [
    {
     "data": {
      "text/plain": [
       "0.7728655423667019"
      ]
     },
     "execution_count": 115,
     "metadata": {},
     "output_type": "execute_result"
    }
   ],
   "source": [
    "pvalue = chi2_results[1]\n",
    "pvalue"
   ]
  },
  {
   "cell_type": "code",
   "execution_count": 54,
   "id": "b0ccb13f",
   "metadata": {},
   "outputs": [],
   "source": [
    "# we accept null hypothesis. The both columns are not related to each other."
   ]
  },
  {
   "cell_type": "code",
   "execution_count": 55,
   "id": "8b6c2977",
   "metadata": {},
   "outputs": [],
   "source": [
    "# hence sex column can be removed from the dataset."
   ]
  },
  {
   "cell_type": "code",
   "execution_count": 56,
   "id": "4fdb715a",
   "metadata": {},
   "outputs": [
    {
     "data": {
      "text/html": [
       "<div>\n",
       "<style scoped>\n",
       "    .dataframe tbody tr th:only-of-type {\n",
       "        vertical-align: middle;\n",
       "    }\n",
       "\n",
       "    .dataframe tbody tr th {\n",
       "        vertical-align: top;\n",
       "    }\n",
       "\n",
       "    .dataframe thead th {\n",
       "        text-align: right;\n",
       "    }\n",
       "</style>\n",
       "<table border=\"1\" class=\"dataframe\">\n",
       "  <thead>\n",
       "    <tr style=\"text-align: right;\">\n",
       "      <th></th>\n",
       "      <th>bill_depth</th>\n",
       "      <th>bill_length</th>\n",
       "      <th>wing_length</th>\n",
       "      <th>location</th>\n",
       "      <th>mass</th>\n",
       "      <th>species</th>\n",
       "    </tr>\n",
       "  </thead>\n",
       "  <tbody>\n",
       "    <tr>\n",
       "      <th>0</th>\n",
       "      <td>14.300000</td>\n",
       "      <td>48.200000</td>\n",
       "      <td>210.000000</td>\n",
       "      <td>1.0</td>\n",
       "      <td>4600.0</td>\n",
       "      <td>2</td>\n",
       "    </tr>\n",
       "    <tr>\n",
       "      <th>1</th>\n",
       "      <td>14.400000</td>\n",
       "      <td>48.400000</td>\n",
       "      <td>203.000000</td>\n",
       "      <td>1.0</td>\n",
       "      <td>4625.0</td>\n",
       "      <td>2</td>\n",
       "    </tr>\n",
       "    <tr>\n",
       "      <th>2</th>\n",
       "      <td>18.400000</td>\n",
       "      <td>47.500000</td>\n",
       "      <td>200.000000</td>\n",
       "      <td>2.0</td>\n",
       "      <td>3400.0</td>\n",
       "      <td>1</td>\n",
       "    </tr>\n",
       "    <tr>\n",
       "      <th>3</th>\n",
       "      <td>14.982114</td>\n",
       "      <td>47.504878</td>\n",
       "      <td>199.000000</td>\n",
       "      <td>1.0</td>\n",
       "      <td>4800.0</td>\n",
       "      <td>2</td>\n",
       "    </tr>\n",
       "    <tr>\n",
       "      <th>4</th>\n",
       "      <td>18.982114</td>\n",
       "      <td>38.259307</td>\n",
       "      <td>217.186992</td>\n",
       "      <td>2.0</td>\n",
       "      <td>5200.0</td>\n",
       "      <td>2</td>\n",
       "    </tr>\n",
       "  </tbody>\n",
       "</table>\n",
       "</div>"
      ],
      "text/plain": [
       "   bill_depth  bill_length  wing_length location    mass  species\n",
       "0   14.300000    48.200000   210.000000      1.0  4600.0        2\n",
       "1   14.400000    48.400000   203.000000      1.0  4625.0        2\n",
       "2   18.400000    47.500000   200.000000      2.0  3400.0        1\n",
       "3   14.982114    47.504878   199.000000      1.0  4800.0        2\n",
       "4   18.982114    38.259307   217.186992      2.0  5200.0        2"
      ]
     },
     "execution_count": 56,
     "metadata": {},
     "output_type": "execute_result"
    }
   ],
   "source": [
    "df_final = df_filled.drop('sex',axis = 1)\n",
    "df_final.head()"
   ]
  },
  {
   "cell_type": "markdown",
   "id": "bcc56288",
   "metadata": {},
   "source": [
    "# train test split"
   ]
  },
  {
   "cell_type": "code",
   "execution_count": 129,
   "id": "d68d2bbf",
   "metadata": {},
   "outputs": [],
   "source": [
    "xtrain,xtest,ytrain,ytest = train_test_split(df_final)"
   ]
  },
  {
   "cell_type": "code",
   "execution_count": 130,
   "id": "178f0842",
   "metadata": {},
   "outputs": [
    {
     "data": {
      "text/html": [
       "<div>\n",
       "<style scoped>\n",
       "    .dataframe tbody tr th:only-of-type {\n",
       "        vertical-align: middle;\n",
       "    }\n",
       "\n",
       "    .dataframe tbody tr th {\n",
       "        vertical-align: top;\n",
       "    }\n",
       "\n",
       "    .dataframe thead th {\n",
       "        text-align: right;\n",
       "    }\n",
       "</style>\n",
       "<table border=\"1\" class=\"dataframe\">\n",
       "  <thead>\n",
       "    <tr style=\"text-align: right;\">\n",
       "      <th></th>\n",
       "      <th>bill_depth</th>\n",
       "      <th>bill_length</th>\n",
       "      <th>wing_length</th>\n",
       "      <th>location</th>\n",
       "      <th>mass</th>\n",
       "      <th>bill_area</th>\n",
       "    </tr>\n",
       "  </thead>\n",
       "  <tbody>\n",
       "    <tr>\n",
       "      <th>153</th>\n",
       "      <td>18.6</td>\n",
       "      <td>55.512336</td>\n",
       "      <td>190.0</td>\n",
       "      <td>2.0</td>\n",
       "      <td>3450.0</td>\n",
       "      <td>1032.529441</td>\n",
       "    </tr>\n",
       "    <tr>\n",
       "      <th>264</th>\n",
       "      <td>18.4</td>\n",
       "      <td>48.833824</td>\n",
       "      <td>200.0</td>\n",
       "      <td>1.0</td>\n",
       "      <td>3400.0</td>\n",
       "      <td>898.542353</td>\n",
       "    </tr>\n",
       "    <tr>\n",
       "      <th>54</th>\n",
       "      <td>17.9</td>\n",
       "      <td>47.500000</td>\n",
       "      <td>199.0</td>\n",
       "      <td>1.0</td>\n",
       "      <td>3200.0</td>\n",
       "      <td>850.250000</td>\n",
       "    </tr>\n",
       "    <tr>\n",
       "      <th>355</th>\n",
       "      <td>18.1</td>\n",
       "      <td>47.500000</td>\n",
       "      <td>199.0</td>\n",
       "      <td>2.0</td>\n",
       "      <td>4300.0</td>\n",
       "      <td>859.750000</td>\n",
       "    </tr>\n",
       "    <tr>\n",
       "      <th>428</th>\n",
       "      <td>14.0</td>\n",
       "      <td>47.500000</td>\n",
       "      <td>212.0</td>\n",
       "      <td>1.0</td>\n",
       "      <td>4875.0</td>\n",
       "      <td>665.000000</td>\n",
       "    </tr>\n",
       "  </tbody>\n",
       "</table>\n",
       "</div>"
      ],
      "text/plain": [
       "     bill_depth  bill_length  wing_length location    mass    bill_area\n",
       "153        18.6    55.512336        190.0      2.0  3450.0  1032.529441\n",
       "264        18.4    48.833824        200.0      1.0  3400.0   898.542353\n",
       "54         17.9    47.500000        199.0      1.0  3200.0   850.250000\n",
       "355        18.1    47.500000        199.0      2.0  4300.0   859.750000\n",
       "428        14.0    47.500000        212.0      1.0  4875.0   665.000000"
      ]
     },
     "execution_count": 130,
     "metadata": {},
     "output_type": "execute_result"
    }
   ],
   "source": [
    "xtest.head()"
   ]
  },
  {
   "cell_type": "markdown",
   "id": "8bafe106",
   "metadata": {},
   "source": [
    "# stratifying the train and test datasets"
   ]
  },
  {
   "cell_type": "code",
   "execution_count": 59,
   "id": "fad94b66",
   "metadata": {},
   "outputs": [],
   "source": [
    "# the target variable is imbalanced and it will not provide good accuracy on unknown data\n",
    "# hence we will be using stratified k fold to get the better accuracy.\n",
    "# k fold cv is used for evaluating the model performances"
   ]
  },
  {
   "cell_type": "code",
   "execution_count": 60,
   "id": "f017b312",
   "metadata": {},
   "outputs": [],
   "source": [
    "# K fold\n",
    "from sklearn.model_selection import StratifiedKFold, cross_val_score\n",
    "kfold = StratifiedKFold(n_splits=5,  shuffle=True, random_state=0)\n"
   ]
  },
  {
   "cell_type": "code",
   "execution_count": 61,
   "id": "5359ba44",
   "metadata": {},
   "outputs": [],
   "source": [
    "X = df_final.drop('species', axis = 1)\n",
    "y = df_final['species']"
   ]
  },
  {
   "cell_type": "code",
   "execution_count": 62,
   "id": "907cb38e",
   "metadata": {},
   "outputs": [],
   "source": [
    "train_indices = []\n",
    "test_indices = []\n",
    "for train_ind, test_ind in kfold.split(X,y):\n",
    "    train_indices.append(train_ind)\n",
    "    test_indices.append(test_ind)\n",
    "#     train_x, test_x = X[train_ind], X[test_ind]\n",
    "#     train_y, test_y = y[train_ind], y[test_ind]\n"
   ]
  },
  {
   "cell_type": "code",
   "execution_count": 63,
   "id": "0eddb75e",
   "metadata": {},
   "outputs": [],
   "source": [
    "xtrain_strfd = X.iloc[train_indices[0]]\n",
    "ytrain_strfd = y.iloc[train_indices[0]]"
   ]
  },
  {
   "cell_type": "code",
   "execution_count": 64,
   "id": "a3e3194e",
   "metadata": {},
   "outputs": [],
   "source": [
    "xtest_strfd = X.iloc[test_indices[0]]\n",
    "ytest_strfd = y.iloc[test_indices[0]]"
   ]
  },
  {
   "cell_type": "code",
   "execution_count": 65,
   "id": "ece1600b",
   "metadata": {},
   "outputs": [
    {
     "data": {
      "text/plain": [
       "2    145\n",
       "0    128\n",
       "1     75\n",
       "Name: species, dtype: int64"
      ]
     },
     "execution_count": 65,
     "metadata": {},
     "output_type": "execute_result"
    }
   ],
   "source": [
    "ytrain_strfd.value_counts()"
   ]
  },
  {
   "cell_type": "code",
   "execution_count": 66,
   "id": "45c085ad",
   "metadata": {},
   "outputs": [
    {
     "data": {
      "text/plain": [
       "2    37\n",
       "0    32\n",
       "1    18\n",
       "Name: species, dtype: int64"
      ]
     },
     "execution_count": 66,
     "metadata": {},
     "output_type": "execute_result"
    }
   ],
   "source": [
    "ytest_strfd.value_counts()"
   ]
  },
  {
   "cell_type": "markdown",
   "id": "58e8b44d",
   "metadata": {},
   "source": [
    "# scaling"
   ]
  },
  {
   "cell_type": "code",
   "execution_count": 67,
   "id": "3f8d8543",
   "metadata": {},
   "outputs": [],
   "source": [
    "# xtrain scaling\n",
    "xtrain_scaled = scaler(xtrain_strfd) # Minmax scaler\n",
    "#xtest scaling\n",
    "xtest_scaled = scaler(xtest_strfd)"
   ]
  },
  {
   "cell_type": "code",
   "execution_count": 68,
   "id": "46bcbe00",
   "metadata": {},
   "outputs": [
    {
     "data": {
      "text/html": [
       "<div>\n",
       "<style scoped>\n",
       "    .dataframe tbody tr th:only-of-type {\n",
       "        vertical-align: middle;\n",
       "    }\n",
       "\n",
       "    .dataframe tbody tr th {\n",
       "        vertical-align: top;\n",
       "    }\n",
       "\n",
       "    .dataframe thead th {\n",
       "        text-align: right;\n",
       "    }\n",
       "</style>\n",
       "<table border=\"1\" class=\"dataframe\">\n",
       "  <thead>\n",
       "    <tr style=\"text-align: right;\">\n",
       "      <th></th>\n",
       "      <th>bill_depth</th>\n",
       "      <th>bill_length</th>\n",
       "      <th>wing_length</th>\n",
       "      <th>location</th>\n",
       "      <th>mass</th>\n",
       "    </tr>\n",
       "  </thead>\n",
       "  <tbody>\n",
       "    <tr>\n",
       "      <th>0</th>\n",
       "      <td>0.142857</td>\n",
       "      <td>0.465809</td>\n",
       "      <td>0.655172</td>\n",
       "      <td>1.0</td>\n",
       "      <td>0.527778</td>\n",
       "    </tr>\n",
       "    <tr>\n",
       "      <th>2</th>\n",
       "      <td>0.630952</td>\n",
       "      <td>0.433008</td>\n",
       "      <td>0.482759</td>\n",
       "      <td>2.0</td>\n",
       "      <td>0.194444</td>\n",
       "    </tr>\n",
       "    <tr>\n",
       "      <th>4</th>\n",
       "      <td>0.700252</td>\n",
       "      <td>0.000000</td>\n",
       "      <td>0.779086</td>\n",
       "      <td>2.0</td>\n",
       "      <td>0.694444</td>\n",
       "    </tr>\n",
       "    <tr>\n",
       "      <th>5</th>\n",
       "      <td>0.226190</td>\n",
       "      <td>0.531412</td>\n",
       "      <td>0.758621</td>\n",
       "      <td>1.0</td>\n",
       "      <td>0.569444</td>\n",
       "    </tr>\n",
       "    <tr>\n",
       "      <th>6</th>\n",
       "      <td>0.607143</td>\n",
       "      <td>0.433008</td>\n",
       "      <td>0.431034</td>\n",
       "      <td>2.0</td>\n",
       "      <td>0.291667</td>\n",
       "    </tr>\n",
       "  </tbody>\n",
       "</table>\n",
       "</div>"
      ],
      "text/plain": [
       "   bill_depth  bill_length  wing_length location      mass\n",
       "0    0.142857     0.465809     0.655172      1.0  0.527778\n",
       "2    0.630952     0.433008     0.482759      2.0  0.194444\n",
       "4    0.700252     0.000000     0.779086      2.0  0.694444\n",
       "5    0.226190     0.531412     0.758621      1.0  0.569444\n",
       "6    0.607143     0.433008     0.431034      2.0  0.291667"
      ]
     },
     "execution_count": 68,
     "metadata": {},
     "output_type": "execute_result"
    }
   ],
   "source": [
    "xtrain_scaled.head()"
   ]
  },
  {
   "cell_type": "code",
   "execution_count": 69,
   "id": "36ad6dce",
   "metadata": {},
   "outputs": [
    {
     "data": {
      "text/html": [
       "<div>\n",
       "<style scoped>\n",
       "    .dataframe tbody tr th:only-of-type {\n",
       "        vertical-align: middle;\n",
       "    }\n",
       "\n",
       "    .dataframe tbody tr th {\n",
       "        vertical-align: top;\n",
       "    }\n",
       "\n",
       "    .dataframe thead th {\n",
       "        text-align: right;\n",
       "    }\n",
       "</style>\n",
       "<table border=\"1\" class=\"dataframe\">\n",
       "  <thead>\n",
       "    <tr style=\"text-align: right;\">\n",
       "      <th></th>\n",
       "      <th>bill_depth</th>\n",
       "      <th>bill_length</th>\n",
       "      <th>wing_length</th>\n",
       "      <th>location</th>\n",
       "      <th>mass</th>\n",
       "    </tr>\n",
       "  </thead>\n",
       "  <tbody>\n",
       "    <tr>\n",
       "      <th>1</th>\n",
       "      <td>0.042254</td>\n",
       "      <td>0.587763</td>\n",
       "      <td>0.404255</td>\n",
       "      <td>1.0</td>\n",
       "      <td>0.541667</td>\n",
       "    </tr>\n",
       "    <tr>\n",
       "      <th>3</th>\n",
       "      <td>0.124241</td>\n",
       "      <td>0.535881</td>\n",
       "      <td>0.319149</td>\n",
       "      <td>1.0</td>\n",
       "      <td>0.600000</td>\n",
       "    </tr>\n",
       "    <tr>\n",
       "      <th>8</th>\n",
       "      <td>0.687622</td>\n",
       "      <td>0.000000</td>\n",
       "      <td>0.319149</td>\n",
       "      <td>0.0</td>\n",
       "      <td>0.800000</td>\n",
       "    </tr>\n",
       "    <tr>\n",
       "      <th>17</th>\n",
       "      <td>0.676056</td>\n",
       "      <td>0.535598</td>\n",
       "      <td>0.319149</td>\n",
       "      <td>0.0</td>\n",
       "      <td>0.383333</td>\n",
       "    </tr>\n",
       "    <tr>\n",
       "      <th>19</th>\n",
       "      <td>0.521127</td>\n",
       "      <td>0.471841</td>\n",
       "      <td>0.148936</td>\n",
       "      <td>2.0</td>\n",
       "      <td>0.233333</td>\n",
       "    </tr>\n",
       "  </tbody>\n",
       "</table>\n",
       "</div>"
      ],
      "text/plain": [
       "    bill_depth  bill_length  wing_length location      mass\n",
       "1     0.042254     0.587763     0.404255      1.0  0.541667\n",
       "3     0.124241     0.535881     0.319149      1.0  0.600000\n",
       "8     0.687622     0.000000     0.319149      0.0  0.800000\n",
       "17    0.676056     0.535598     0.319149      0.0  0.383333\n",
       "19    0.521127     0.471841     0.148936      2.0  0.233333"
      ]
     },
     "execution_count": 69,
     "metadata": {},
     "output_type": "execute_result"
    }
   ],
   "source": [
    "xtest_scaled.head()"
   ]
  },
  {
   "cell_type": "markdown",
   "id": "4bed35ad",
   "metadata": {},
   "source": [
    "# feature selection"
   ]
  },
  {
   "cell_type": "code",
   "execution_count": 70,
   "id": "f26b9e69",
   "metadata": {},
   "outputs": [
    {
     "name": "stdout",
     "output_type": "stream",
     "text": [
      "[0.21410334 0.23803722 0.19842479 0.08040176 0.26903289]\n",
      "\n",
      "Important features are :\n",
      "['bill_depth' 'bill_length' 'wing_length' 'mass']\n"
     ]
    }
   ],
   "source": [
    "\n",
    "\n",
    "# Create an ExtraTreesClassifier object\n",
    "clf = ExtraTreesClassifier(n_estimators=100)\n",
    "\n",
    "# Fit the classifier to the data\n",
    "clf = clf.fit(xtrain_scaled,ytrain_strfd)\n",
    "\n",
    "# Print the feature importances\n",
    "print(clf.feature_importances_)\n",
    "\n",
    "# Use SelectFromModel to select features based on their importance\n",
    "sfm = SelectFromModel(clf, threshold=0.1)\n",
    "sfm.fit(xtrain_scaled,ytrain_strfd)\n",
    "\n",
    "# Print the selected features\n",
    "print('\\nImportant features are :')\n",
    "print(clf.feature_names_in_[sfm.get_support()])"
   ]
  },
  {
   "cell_type": "code",
   "execution_count": 71,
   "id": "cf3eb2fd",
   "metadata": {},
   "outputs": [
    {
     "data": {
      "image/png": "[encoded data removed]",
      "text/plain": [
       "<Figure size 576x432 with 1 Axes>"
      ]
     },
     "metadata": {
      "needs_background": "light"
     },
     "output_type": "display_data"
    }
   ],
   "source": [
    "plt.figure(figsize = (8,6))\n",
    "plt.barh(xtrain_scaled.columns,clf.feature_importances_)\n",
    "plt.title('Feature Importance',fontweight = 'bold')\n",
    "plt.ylabel('Features in Xtrain', fontweight = 'bold')\n",
    "plt.show()"
   ]
  },
  {
   "cell_type": "raw",
   "id": "a26570f6",
   "metadata": {},
   "source": [
    "# we can drop location columns\n",
    "xtrain_scaled.drop('location', axis = 1, inplace = True)\n",
    "xtest_scaled.drop('location', axis = 1, inplace = True)"
   ]
  },
  {
   "cell_type": "raw",
   "id": "8d54c948",
   "metadata": {},
   "source": [
    "central_tendency(df) # skew values are between 0 and 1. moderately normally distributed "
   ]
  },
  {
   "cell_type": "code",
   "execution_count": 72,
   "id": "164eb79f",
   "metadata": {},
   "outputs": [
    {
     "data": {
      "text/plain": [
       "<Figure size 1080x720 with 0 Axes>"
      ]
     },
     "metadata": {},
     "output_type": "display_data"
    },
    {
     "data": {
      "image/png": "[encoded data removed]",
      "text/plain": [
       "<Figure size 900x900 with 30 Axes>"
      ]
     },
     "metadata": {
      "needs_background": "light"
     },
     "output_type": "display_data"
    }
   ],
   "source": [
    "#pair plot\n",
    "plt.figure(figsize = (15,10))\n",
    "sns.pairplot(xtrain_scaled.iloc[:])\n",
    "plt.show()"
   ]
  },
  {
   "cell_type": "code",
   "execution_count": 73,
   "id": "991eaf7a",
   "metadata": {},
   "outputs": [],
   "source": [
    "# wing_length and mass are correlated. will use feature importance technique to remove the less important feature.\n",
    "# but these correlation are not affecting the decision tree and random forest models"
   ]
  },
  {
   "cell_type": "markdown",
   "id": "b2f8330d",
   "metadata": {},
   "source": [
    "# Transformation"
   ]
  },
  {
   "cell_type": "code",
   "execution_count": 74,
   "id": "00fdbe8c",
   "metadata": {},
   "outputs": [
    {
     "data": {
      "text/plain": [
       "bill_depth     float64\n",
       "bill_length    float64\n",
       "wing_length    float64\n",
       "location        object\n",
       "mass           float64\n",
       "dtype: object"
      ]
     },
     "execution_count": 74,
     "metadata": {},
     "output_type": "execute_result"
    }
   ],
   "source": [
    "xtrain_strfd.dtypes"
   ]
  },
  {
   "cell_type": "code",
   "execution_count": 75,
   "id": "5c2a6724",
   "metadata": {},
   "outputs": [],
   "source": [
    "from scipy.stats import boxcox\n",
    "def boxcox_transformation(df):\n",
    "    col_list = df.select_dtypes(exclude = 'object').columns\n",
    "    for i in col_list:\n",
    "        df[i],_ = boxcox(df[i]+1)\n",
    "    return df"
   ]
  },
  {
   "cell_type": "code",
   "execution_count": 76,
   "id": "fae99acf",
   "metadata": {},
   "outputs": [],
   "source": [
    "xtrain_transformed = boxcox_transformation(xtrain_scaled)\n",
    "xtest_transformed = boxcox_transformation(xtest_scaled)"
   ]
  },
  {
   "cell_type": "code",
   "execution_count": 77,
   "id": "0e5cc84d",
   "metadata": {},
   "outputs": [
    {
     "data": {
      "text/plain": [
       "<Figure size 1080x720 with 0 Axes>"
      ]
     },
     "metadata": {},
     "output_type": "display_data"
    },
    {
     "data": {
      "image/png": "[encoded data removed]",
      "text/plain": [
       "<Figure size 900x900 with 30 Axes>"
      ]
     },
     "metadata": {
      "needs_background": "light"
     },
     "output_type": "display_data"
    }
   ],
   "source": [
    "#pair plot\n",
    "plt.figure(figsize = (15,10))\n",
    "sns.pairplot(xtrain_transformed.iloc[:])\n",
    "plt.show()"
   ]
  },
  {
   "cell_type": "code",
   "execution_count": 78,
   "id": "42bcd054",
   "metadata": {},
   "outputs": [
    {
     "data": {
      "text/plain": [
       "<AxesSubplot:>"
      ]
     },
     "execution_count": 78,
     "metadata": {},
     "output_type": "execute_result"
    },
    {
     "data": {
      "image/png": "[encoded data removed]",
      "text/plain": [
       "<Figure size 432x288 with 1 Axes>"
      ]
     },
     "metadata": {
      "needs_background": "light"
     },
     "output_type": "display_data"
    }
   ],
   "source": [
    "xtrain_transformed.boxplot()"
   ]
  },
  {
   "cell_type": "code",
   "execution_count": 79,
   "id": "2765cd49",
   "metadata": {},
   "outputs": [],
   "source": [
    "# bill_length has huge outliers. we build the models with outliers."
   ]
  },
  {
   "cell_type": "markdown",
   "id": "f7cf79dd",
   "metadata": {},
   "source": [
    "# model building"
   ]
  },
  {
   "cell_type": "code",
   "execution_count": 80,
   "id": "474b8720",
   "metadata": {},
   "outputs": [],
   "source": [
    "from sklearn.linear_model import LogisticRegression\n",
    "from sklearn.tree import DecisionTreeClassifier\n",
    "from sklearn.ensemble import RandomForestClassifier\n",
    "from sklearn.ensemble import HistGradientBoostingClassifier"
   ]
  },
  {
   "cell_type": "code",
   "execution_count": 81,
   "id": "2adfe82a",
   "metadata": {},
   "outputs": [],
   "source": [
    "from sklearn.naive_bayes import GaussianNB\n",
    "from sklearn.linear_model import SGDClassifier\n",
    "from sklearn.neighbors import KNeighborsClassifier\n",
    "from sklearn.svm import SVC\n"
   ]
  },
  {
   "cell_type": "code",
   "execution_count": 82,
   "id": "4a160c2b",
   "metadata": {},
   "outputs": [],
   "source": [
    "lr = LogisticRegression()\n",
    "dc = DecisionTreeClassifier()\n",
    "rfc = RandomForestClassifier()\n",
    "nb = GaussianNB()\n",
    "sgd = SGDClassifier()\n",
    "knn = KNeighborsClassifier()\n",
    "svc = SVC()"
   ]
  },
  {
   "cell_type": "markdown",
   "id": "526153d2",
   "metadata": {},
   "source": [
    " algorithms which support missing values \n",
    "hgbc = HistGradientBoostingClassifier()\n",
    "rfc = RandomForestClassifier()\n",
    "knn = KNeighborsClassifier()"
   ]
  },
  {
   "cell_type": "code",
   "execution_count": 83,
   "id": "2263b417",
   "metadata": {},
   "outputs": [],
   "source": [
    "from sklearn.metrics import f1_score, accuracy_score,precision_score,recall_score,roc_auc_score,classification_report"
   ]
  },
  {
   "cell_type": "code",
   "execution_count": 84,
   "id": "714c6842",
   "metadata": {},
   "outputs": [
    {
     "data": {
      "text/plain": [
       "((348, 5), (348,))"
      ]
     },
     "execution_count": 84,
     "metadata": {},
     "output_type": "execute_result"
    }
   ],
   "source": [
    "xtrain_transformed.shape, ytrain_strfd.shape"
   ]
  },
  {
   "cell_type": "code",
   "execution_count": 85,
   "id": "91f18084",
   "metadata": {},
   "outputs": [
    {
     "data": {
      "text/plain": [
       "((87, 5), (87,))"
      ]
     },
     "execution_count": 85,
     "metadata": {},
     "output_type": "execute_result"
    }
   ],
   "source": [
    "xtest_transformed.shape, ytest_strfd.shape"
   ]
  },
  {
   "cell_type": "code",
   "execution_count": 86,
   "id": "a10e5937",
   "metadata": {},
   "outputs": [],
   "source": [
    "train_scores = []\n",
    "test_scores = []\n",
    "for i in [lr,dc,rfc,nb,sgd,knn,svc]:\n",
    "    i.fit(xtrain_transformed,ytrain_strfd)\n",
    "    train_scores.append(i.score(xtrain_transformed,ytrain_strfd))\n",
    "    test_scores.append(i.score(xtest_transformed,ytest_strfd))"
   ]
  },
  {
   "cell_type": "code",
   "execution_count": 87,
   "id": "b73dc564",
   "metadata": {},
   "outputs": [],
   "source": [
    "df_scores = pd.DataFrame( index = ['Logistic Regression','Decision Tree',\n",
    "                                   'Random Forest','Naive Bayes','Stochostic Gradient Descent','KNN','SVC'])\n",
    "#df_scores.sort_values(by = ['Accuracy Scores','F1 Scores'], ascending = False) \n",
    "df_scores['Train_score'], df_scores['Test_score'] = train_scores,test_scores"
   ]
  },
  {
   "cell_type": "code",
   "execution_count": 88,
   "id": "3148698c",
   "metadata": {},
   "outputs": [
    {
     "data": {
      "text/html": [
       "<div>\n",
       "<style scoped>\n",
       "    .dataframe tbody tr th:only-of-type {\n",
       "        vertical-align: middle;\n",
       "    }\n",
       "\n",
       "    .dataframe tbody tr th {\n",
       "        vertical-align: top;\n",
       "    }\n",
       "\n",
       "    .dataframe thead th {\n",
       "        text-align: right;\n",
       "    }\n",
       "</style>\n",
       "<table border=\"1\" class=\"dataframe\">\n",
       "  <thead>\n",
       "    <tr style=\"text-align: right;\">\n",
       "      <th></th>\n",
       "      <th>Train_score</th>\n",
       "      <th>Test_score</th>\n",
       "    </tr>\n",
       "  </thead>\n",
       "  <tbody>\n",
       "    <tr>\n",
       "      <th>Naive Bayes</th>\n",
       "      <td>0.847701</td>\n",
       "      <td>0.827586</td>\n",
       "    </tr>\n",
       "    <tr>\n",
       "      <th>SVC</th>\n",
       "      <td>0.847701</td>\n",
       "      <td>0.827586</td>\n",
       "    </tr>\n",
       "    <tr>\n",
       "      <th>Logistic Regression</th>\n",
       "      <td>0.816092</td>\n",
       "      <td>0.816092</td>\n",
       "    </tr>\n",
       "    <tr>\n",
       "      <th>KNN</th>\n",
       "      <td>0.882184</td>\n",
       "      <td>0.758621</td>\n",
       "    </tr>\n",
       "    <tr>\n",
       "      <th>Stochostic Gradient Descent</th>\n",
       "      <td>0.824713</td>\n",
       "      <td>0.678161</td>\n",
       "    </tr>\n",
       "    <tr>\n",
       "      <th>Random Forest</th>\n",
       "      <td>1.000000</td>\n",
       "      <td>0.655172</td>\n",
       "    </tr>\n",
       "    <tr>\n",
       "      <th>Decision Tree</th>\n",
       "      <td>1.000000</td>\n",
       "      <td>0.528736</td>\n",
       "    </tr>\n",
       "  </tbody>\n",
       "</table>\n",
       "</div>"
      ],
      "text/plain": [
       "                             Train_score  Test_score\n",
       "Naive Bayes                     0.847701    0.827586\n",
       "SVC                             0.847701    0.827586\n",
       "Logistic Regression             0.816092    0.816092\n",
       "KNN                             0.882184    0.758621\n",
       "Stochostic Gradient Descent     0.824713    0.678161\n",
       "Random Forest                   1.000000    0.655172\n",
       "Decision Tree                   1.000000    0.528736"
      ]
     },
     "execution_count": 88,
     "metadata": {},
     "output_type": "execute_result"
    }
   ],
   "source": [
    "df_scores.sort_values(by = ['Test_score'], ascending = False)"
   ]
  },
  {
   "cell_type": "markdown",
   "id": "782699b5",
   "metadata": {},
   "source": [
    "# hyperparameter tuning for Guassian NB"
   ]
  },
  {
   "cell_type": "code",
   "execution_count": 89,
   "id": "0e955fcc",
   "metadata": {},
   "outputs": [
    {
     "name": "stdout",
     "output_type": "stream",
     "text": [
      "Best var_smoothing:  1e-09\n",
      "Best score:  0.8333747412008282\n"
     ]
    }
   ],
   "source": [
    "from sklearn.model_selection import GridSearchCV\n",
    "from sklearn.naive_bayes import GaussianNB\n",
    "from sklearn.datasets import load_iris\n",
    "\n",
    "# Create an instance of the GaussianNB class\n",
    "gnb = GaussianNB()\n",
    "\n",
    "# Define the hyperparameter grid to search\n",
    "param_grid = {'var_smoothing': [1e-9, 1e-8, 1e-7, 1e-6, 1e-5]}\n",
    "\n",
    "# Create an instance of the GridSearchCV class with 5-fold cross-validation\n",
    "grid_search = GridSearchCV(gnb, param_grid, cv=5)\n",
    "\n",
    "# Fit the GridSearchCV object to the iris dataset\n",
    "grid_search.fit(xtrain_transformed,ytrain_strfd)\n",
    "\n",
    "# Print the best hyperparameters\n",
    "print(\"Best var_smoothing: \", grid_search.best_params_['var_smoothing'])\n",
    "print(\"Best score: \", grid_search.best_score_)"
   ]
  },
  {
   "cell_type": "markdown",
   "id": "d1a179b7",
   "metadata": {},
   "source": [
    "# test data import"
   ]
  },
  {
   "cell_type": "code",
   "execution_count": 90,
   "id": "37650857",
   "metadata": {},
   "outputs": [
    {
     "data": {
      "text/html": [
       "<div>\n",
       "<style scoped>\n",
       "    .dataframe tbody tr th:only-of-type {\n",
       "        vertical-align: middle;\n",
       "    }\n",
       "\n",
       "    .dataframe tbody tr th {\n",
       "        vertical-align: top;\n",
       "    }\n",
       "\n",
       "    .dataframe thead th {\n",
       "        text-align: right;\n",
       "    }\n",
       "</style>\n",
       "<table border=\"1\" class=\"dataframe\">\n",
       "  <thead>\n",
       "    <tr style=\"text-align: right;\">\n",
       "      <th></th>\n",
       "      <th>bill_depth</th>\n",
       "      <th>bill_length</th>\n",
       "      <th>wing_length</th>\n",
       "      <th>location</th>\n",
       "      <th>mass</th>\n",
       "      <th>sex</th>\n",
       "      <th>ID</th>\n",
       "    </tr>\n",
       "  </thead>\n",
       "  <tbody>\n",
       "    <tr>\n",
       "      <th>0</th>\n",
       "      <td>14.982114</td>\n",
       "      <td>38.259307</td>\n",
       "      <td>217.186992</td>\n",
       "      <td>loc_2</td>\n",
       "      <td>5400.0</td>\n",
       "      <td>0.0</td>\n",
       "      <td>2</td>\n",
       "    </tr>\n",
       "    <tr>\n",
       "      <th>1</th>\n",
       "      <td>13.200000</td>\n",
       "      <td>46.100000</td>\n",
       "      <td>211.000000</td>\n",
       "      <td>loc_2</td>\n",
       "      <td>4500.0</td>\n",
       "      <td>0.0</td>\n",
       "      <td>5</td>\n",
       "    </tr>\n",
       "    <tr>\n",
       "      <th>2</th>\n",
       "      <td>20.000000</td>\n",
       "      <td>NaN</td>\n",
       "      <td>197.000000</td>\n",
       "      <td>loc_3</td>\n",
       "      <td>3300.0</td>\n",
       "      <td>1.0</td>\n",
       "      <td>7</td>\n",
       "    </tr>\n",
       "    <tr>\n",
       "      <th>3</th>\n",
       "      <td>17.500000</td>\n",
       "      <td>38.791391</td>\n",
       "      <td>190.000000</td>\n",
       "      <td>loc_3</td>\n",
       "      <td>3900.0</td>\n",
       "      <td>NaN</td>\n",
       "      <td>8</td>\n",
       "    </tr>\n",
       "    <tr>\n",
       "      <th>4</th>\n",
       "      <td>18.900000</td>\n",
       "      <td>NaN</td>\n",
       "      <td>184.000000</td>\n",
       "      <td>loc_2</td>\n",
       "      <td>3550.0</td>\n",
       "      <td>1.0</td>\n",
       "      <td>9</td>\n",
       "    </tr>\n",
       "  </tbody>\n",
       "</table>\n",
       "</div>"
      ],
      "text/plain": [
       "   bill_depth  bill_length  wing_length location    mass  sex  ID\n",
       "0   14.982114    38.259307   217.186992    loc_2  5400.0  0.0   2\n",
       "1   13.200000    46.100000   211.000000    loc_2  4500.0  0.0   5\n",
       "2   20.000000          NaN   197.000000    loc_3  3300.0  1.0   7\n",
       "3   17.500000    38.791391   190.000000    loc_3  3900.0  NaN   8\n",
       "4   18.900000          NaN   184.000000    loc_2  3550.0  1.0   9"
      ]
     },
     "execution_count": 90,
     "metadata": {},
     "output_type": "execute_result"
    }
   ],
   "source": [
    "# test data import \n",
    "df_test = pd.read_csv(r'C:\\Users\\xchri\\OneDrive\\Documents\\bilgrit\\Bird challenge\\Bird Species Classification Dataset\\Dataset\\test_set\\test_set.csv')\n",
    "df_test.head()"
   ]
  },
  {
   "cell_type": "code",
   "execution_count": 91,
   "id": "bf8e0db5",
   "metadata": {},
   "outputs": [],
   "source": [
    "test_id = df_test['ID']"
   ]
  },
  {
   "cell_type": "code",
   "execution_count": 92,
   "id": "f715ad67",
   "metadata": {},
   "outputs": [
    {
     "data": {
      "text/html": [
       "<div>\n",
       "<style scoped>\n",
       "    .dataframe tbody tr th:only-of-type {\n",
       "        vertical-align: middle;\n",
       "    }\n",
       "\n",
       "    .dataframe tbody tr th {\n",
       "        vertical-align: top;\n",
       "    }\n",
       "\n",
       "    .dataframe thead th {\n",
       "        text-align: right;\n",
       "    }\n",
       "</style>\n",
       "<table border=\"1\" class=\"dataframe\">\n",
       "  <thead>\n",
       "    <tr style=\"text-align: right;\">\n",
       "      <th></th>\n",
       "      <th>bill_depth</th>\n",
       "      <th>bill_length</th>\n",
       "      <th>wing_length</th>\n",
       "      <th>location</th>\n",
       "      <th>mass</th>\n",
       "      <th>sex</th>\n",
       "    </tr>\n",
       "  </thead>\n",
       "  <tbody>\n",
       "    <tr>\n",
       "      <th>0</th>\n",
       "      <td>14.982114</td>\n",
       "      <td>38.259307</td>\n",
       "      <td>217.186992</td>\n",
       "      <td>loc_2</td>\n",
       "      <td>5400.0</td>\n",
       "      <td>0.0</td>\n",
       "    </tr>\n",
       "    <tr>\n",
       "      <th>1</th>\n",
       "      <td>13.200000</td>\n",
       "      <td>46.100000</td>\n",
       "      <td>211.000000</td>\n",
       "      <td>loc_2</td>\n",
       "      <td>4500.0</td>\n",
       "      <td>0.0</td>\n",
       "    </tr>\n",
       "    <tr>\n",
       "      <th>2</th>\n",
       "      <td>20.000000</td>\n",
       "      <td>NaN</td>\n",
       "      <td>197.000000</td>\n",
       "      <td>loc_3</td>\n",
       "      <td>3300.0</td>\n",
       "      <td>1.0</td>\n",
       "    </tr>\n",
       "    <tr>\n",
       "      <th>3</th>\n",
       "      <td>17.500000</td>\n",
       "      <td>38.791391</td>\n",
       "      <td>190.000000</td>\n",
       "      <td>loc_3</td>\n",
       "      <td>3900.0</td>\n",
       "      <td>NaN</td>\n",
       "    </tr>\n",
       "    <tr>\n",
       "      <th>4</th>\n",
       "      <td>18.900000</td>\n",
       "      <td>NaN</td>\n",
       "      <td>184.000000</td>\n",
       "      <td>loc_2</td>\n",
       "      <td>3550.0</td>\n",
       "      <td>1.0</td>\n",
       "    </tr>\n",
       "  </tbody>\n",
       "</table>\n",
       "</div>"
      ],
      "text/plain": [
       "   bill_depth  bill_length  wing_length location    mass  sex\n",
       "0   14.982114    38.259307   217.186992    loc_2  5400.0  0.0\n",
       "1   13.200000    46.100000   211.000000    loc_2  4500.0  0.0\n",
       "2   20.000000          NaN   197.000000    loc_3  3300.0  1.0\n",
       "3   17.500000    38.791391   190.000000    loc_3  3900.0  NaN\n",
       "4   18.900000          NaN   184.000000    loc_2  3550.0  1.0"
      ]
     },
     "execution_count": 92,
     "metadata": {},
     "output_type": "execute_result"
    }
   ],
   "source": [
    "df_test = df_test.drop('ID', axis = 1)\n",
    "df_test.head()"
   ]
  },
  {
   "cell_type": "code",
   "execution_count": 93,
   "id": "4a246b07",
   "metadata": {},
   "outputs": [
    {
     "data": {
      "text/html": [
       "<div>\n",
       "<style scoped>\n",
       "    .dataframe tbody tr th:only-of-type {\n",
       "        vertical-align: middle;\n",
       "    }\n",
       "\n",
       "    .dataframe tbody tr th {\n",
       "        vertical-align: top;\n",
       "    }\n",
       "\n",
       "    .dataframe thead th {\n",
       "        text-align: right;\n",
       "    }\n",
       "</style>\n",
       "<table border=\"1\" class=\"dataframe\">\n",
       "  <thead>\n",
       "    <tr style=\"text-align: right;\">\n",
       "      <th></th>\n",
       "      <th>bill_depth</th>\n",
       "      <th>bill_length</th>\n",
       "      <th>wing_length</th>\n",
       "      <th>location</th>\n",
       "      <th>mass</th>\n",
       "      <th>sex</th>\n",
       "    </tr>\n",
       "  </thead>\n",
       "  <tbody>\n",
       "    <tr>\n",
       "      <th>0</th>\n",
       "      <td>14.982114</td>\n",
       "      <td>38.259307</td>\n",
       "      <td>217.186992</td>\n",
       "      <td>1.0</td>\n",
       "      <td>5400.0</td>\n",
       "      <td>0.0</td>\n",
       "    </tr>\n",
       "    <tr>\n",
       "      <th>1</th>\n",
       "      <td>13.200000</td>\n",
       "      <td>46.100000</td>\n",
       "      <td>211.000000</td>\n",
       "      <td>1.0</td>\n",
       "      <td>4500.0</td>\n",
       "      <td>0.0</td>\n",
       "    </tr>\n",
       "    <tr>\n",
       "      <th>2</th>\n",
       "      <td>20.000000</td>\n",
       "      <td>NaN</td>\n",
       "      <td>197.000000</td>\n",
       "      <td>2.0</td>\n",
       "      <td>3300.0</td>\n",
       "      <td>1.0</td>\n",
       "    </tr>\n",
       "    <tr>\n",
       "      <th>3</th>\n",
       "      <td>17.500000</td>\n",
       "      <td>38.791391</td>\n",
       "      <td>190.000000</td>\n",
       "      <td>2.0</td>\n",
       "      <td>3900.0</td>\n",
       "      <td>NaN</td>\n",
       "    </tr>\n",
       "    <tr>\n",
       "      <th>4</th>\n",
       "      <td>18.900000</td>\n",
       "      <td>NaN</td>\n",
       "      <td>184.000000</td>\n",
       "      <td>1.0</td>\n",
       "      <td>3550.0</td>\n",
       "      <td>1.0</td>\n",
       "    </tr>\n",
       "  </tbody>\n",
       "</table>\n",
       "</div>"
      ],
      "text/plain": [
       "   bill_depth  bill_length  wing_length  location    mass  sex\n",
       "0   14.982114    38.259307   217.186992       1.0  5400.0  0.0\n",
       "1   13.200000    46.100000   211.000000       1.0  4500.0  0.0\n",
       "2   20.000000          NaN   197.000000       2.0  3300.0  1.0\n",
       "3   17.500000    38.791391   190.000000       2.0  3900.0  NaN\n",
       "4   18.900000          NaN   184.000000       1.0  3550.0  1.0"
      ]
     },
     "execution_count": 93,
     "metadata": {},
     "output_type": "execute_result"
    }
   ],
   "source": [
    "independent_encod(df_test,'location')\n",
    "\n",
    "independent_encod(df_test,'sex')\n",
    "\n",
    "df_test.head()"
   ]
  },
  {
   "cell_type": "code",
   "execution_count": 94,
   "id": "57c137f7",
   "metadata": {},
   "outputs": [
    {
     "data": {
      "text/plain": [
       "bill_depth     float64\n",
       "bill_length    float64\n",
       "wing_length    float64\n",
       "location       float64\n",
       "mass           float64\n",
       "sex            float64\n",
       "dtype: object"
      ]
     },
     "execution_count": 94,
     "metadata": {},
     "output_type": "execute_result"
    }
   ],
   "source": [
    "df_test.dtypes"
   ]
  },
  {
   "cell_type": "code",
   "execution_count": 95,
   "id": "c9b021da",
   "metadata": {},
   "outputs": [
    {
     "data": {
      "text/plain": [
       "bill_depth      1\n",
       "bill_length    41\n",
       "wing_length    38\n",
       "location        6\n",
       "mass            1\n",
       "sex            17\n",
       "dtype: int64"
      ]
     },
     "execution_count": 95,
     "metadata": {},
     "output_type": "execute_result"
    }
   ],
   "source": [
    "df_test.isnull().sum()"
   ]
  },
  {
   "cell_type": "code",
   "execution_count": 96,
   "id": "08f07ebe",
   "metadata": {},
   "outputs": [],
   "source": [
    "df_test['location'] = df['location'].astype('object')\n",
    "df_test['sex'] = df['sex'].astype('object')"
   ]
  },
  {
   "cell_type": "code",
   "execution_count": 97,
   "id": "3fe7957e",
   "metadata": {},
   "outputs": [
    {
     "data": {
      "text/plain": [
       "bill_depth     float64\n",
       "bill_length    float64\n",
       "wing_length    float64\n",
       "location        object\n",
       "mass           float64\n",
       "sex             object\n",
       "dtype: object"
      ]
     },
     "execution_count": 97,
     "metadata": {},
     "output_type": "execute_result"
    }
   ],
   "source": [
    "df_test.dtypes"
   ]
  },
  {
   "cell_type": "code",
   "execution_count": 98,
   "id": "672ab559",
   "metadata": {},
   "outputs": [
    {
     "data": {
      "text/html": [
       "<div>\n",
       "<style scoped>\n",
       "    .dataframe tbody tr th:only-of-type {\n",
       "        vertical-align: middle;\n",
       "    }\n",
       "\n",
       "    .dataframe tbody tr th {\n",
       "        vertical-align: top;\n",
       "    }\n",
       "\n",
       "    .dataframe thead th {\n",
       "        text-align: right;\n",
       "    }\n",
       "</style>\n",
       "<table border=\"1\" class=\"dataframe\">\n",
       "  <thead>\n",
       "    <tr style=\"text-align: right;\">\n",
       "      <th></th>\n",
       "      <th>bill_depth</th>\n",
       "      <th>bill_length</th>\n",
       "      <th>wing_length</th>\n",
       "      <th>location</th>\n",
       "      <th>mass</th>\n",
       "      <th>sex</th>\n",
       "    </tr>\n",
       "  </thead>\n",
       "  <tbody>\n",
       "    <tr>\n",
       "      <th>0</th>\n",
       "      <td>0.222764</td>\n",
       "      <td>0.000000</td>\n",
       "      <td>0.753596</td>\n",
       "      <td>1.0</td>\n",
       "      <td>0.739130</td>\n",
       "      <td>0.0</td>\n",
       "    </tr>\n",
       "    <tr>\n",
       "      <th>1</th>\n",
       "      <td>0.000000</td>\n",
       "      <td>0.454453</td>\n",
       "      <td>0.634615</td>\n",
       "      <td>1.0</td>\n",
       "      <td>0.478261</td>\n",
       "      <td>0.0</td>\n",
       "    </tr>\n",
       "    <tr>\n",
       "      <th>2</th>\n",
       "      <td>0.850000</td>\n",
       "      <td>0.492128</td>\n",
       "      <td>0.365385</td>\n",
       "      <td>2.0</td>\n",
       "      <td>0.130435</td>\n",
       "      <td>0.0</td>\n",
       "    </tr>\n",
       "    <tr>\n",
       "      <th>3</th>\n",
       "      <td>0.537500</td>\n",
       "      <td>0.030840</td>\n",
       "      <td>0.230769</td>\n",
       "      <td>1.0</td>\n",
       "      <td>0.304348</td>\n",
       "      <td>0.0</td>\n",
       "    </tr>\n",
       "    <tr>\n",
       "      <th>4</th>\n",
       "      <td>0.712500</td>\n",
       "      <td>0.492128</td>\n",
       "      <td>0.115385</td>\n",
       "      <td>2.0</td>\n",
       "      <td>0.202899</td>\n",
       "      <td>0.0</td>\n",
       "    </tr>\n",
       "  </tbody>\n",
       "</table>\n",
       "</div>"
      ],
      "text/plain": [
       "   bill_depth  bill_length  wing_length location      mass  sex\n",
       "0    0.222764     0.000000     0.753596      1.0  0.739130  0.0\n",
       "1    0.000000     0.454453     0.634615      1.0  0.478261  0.0\n",
       "2    0.850000     0.492128     0.365385      2.0  0.130435  0.0\n",
       "3    0.537500     0.030840     0.230769      1.0  0.304348  0.0\n",
       "4    0.712500     0.492128     0.115385      2.0  0.202899  0.0"
      ]
     },
     "execution_count": 98,
     "metadata": {},
     "output_type": "execute_result"
    }
   ],
   "source": [
    "# filling missing values\n",
    "#df_test = mode_imputer(df_test)\n",
    "df_test = median_imputer(df_test)\n",
    "\n",
    "#scaling\n",
    "\n",
    "df_test = scaler(df_test)\n",
    "\n",
    "df_test.head()\n"
   ]
  },
  {
   "cell_type": "code",
   "execution_count": 99,
   "id": "bd1677fc",
   "metadata": {},
   "outputs": [
    {
     "data": {
      "text/plain": [
       "bill_depth     0\n",
       "bill_length    0\n",
       "wing_length    0\n",
       "location       0\n",
       "mass           0\n",
       "sex            0\n",
       "dtype: int64"
      ]
     },
     "execution_count": 99,
     "metadata": {},
     "output_type": "execute_result"
    }
   ],
   "source": [
    "df_test.isnull().sum()"
   ]
  },
  {
   "cell_type": "code",
   "execution_count": 100,
   "id": "1d6f92f8",
   "metadata": {},
   "outputs": [
    {
     "data": {
      "text/html": [
       "<div>\n",
       "<style scoped>\n",
       "    .dataframe tbody tr th:only-of-type {\n",
       "        vertical-align: middle;\n",
       "    }\n",
       "\n",
       "    .dataframe tbody tr th {\n",
       "        vertical-align: top;\n",
       "    }\n",
       "\n",
       "    .dataframe thead th {\n",
       "        text-align: right;\n",
       "    }\n",
       "</style>\n",
       "<table border=\"1\" class=\"dataframe\">\n",
       "  <thead>\n",
       "    <tr style=\"text-align: right;\">\n",
       "      <th></th>\n",
       "      <th>bill_depth</th>\n",
       "      <th>bill_length</th>\n",
       "      <th>wing_length</th>\n",
       "      <th>location</th>\n",
       "      <th>mass</th>\n",
       "    </tr>\n",
       "  </thead>\n",
       "  <tbody>\n",
       "    <tr>\n",
       "      <th>0</th>\n",
       "      <td>0.222764</td>\n",
       "      <td>0.000000</td>\n",
       "      <td>0.753596</td>\n",
       "      <td>1.0</td>\n",
       "      <td>0.739130</td>\n",
       "    </tr>\n",
       "    <tr>\n",
       "      <th>1</th>\n",
       "      <td>0.000000</td>\n",
       "      <td>0.454453</td>\n",
       "      <td>0.634615</td>\n",
       "      <td>1.0</td>\n",
       "      <td>0.478261</td>\n",
       "    </tr>\n",
       "    <tr>\n",
       "      <th>2</th>\n",
       "      <td>0.850000</td>\n",
       "      <td>0.492128</td>\n",
       "      <td>0.365385</td>\n",
       "      <td>2.0</td>\n",
       "      <td>0.130435</td>\n",
       "    </tr>\n",
       "    <tr>\n",
       "      <th>3</th>\n",
       "      <td>0.537500</td>\n",
       "      <td>0.030840</td>\n",
       "      <td>0.230769</td>\n",
       "      <td>1.0</td>\n",
       "      <td>0.304348</td>\n",
       "    </tr>\n",
       "    <tr>\n",
       "      <th>4</th>\n",
       "      <td>0.712500</td>\n",
       "      <td>0.492128</td>\n",
       "      <td>0.115385</td>\n",
       "      <td>2.0</td>\n",
       "      <td>0.202899</td>\n",
       "    </tr>\n",
       "  </tbody>\n",
       "</table>\n",
       "</div>"
      ],
      "text/plain": [
       "   bill_depth  bill_length  wing_length location      mass\n",
       "0    0.222764     0.000000     0.753596      1.0  0.739130\n",
       "1    0.000000     0.454453     0.634615      1.0  0.478261\n",
       "2    0.850000     0.492128     0.365385      2.0  0.130435\n",
       "3    0.537500     0.030840     0.230769      1.0  0.304348\n",
       "4    0.712500     0.492128     0.115385      2.0  0.202899"
      ]
     },
     "execution_count": 100,
     "metadata": {},
     "output_type": "execute_result"
    }
   ],
   "source": [
    "columns = xtrain_transformed.columns\n",
    "df_test = df_test[columns]\n",
    "df_test.head()"
   ]
  },
  {
   "cell_type": "code",
   "execution_count": 101,
   "id": "ee57cf39",
   "metadata": {},
   "outputs": [],
   "source": [
    "# prediction"
   ]
  },
  {
   "cell_type": "code",
   "execution_count": 102,
   "id": "e18e57c7",
   "metadata": {},
   "outputs": [],
   "source": [
    "predict = nb.predict(df_test)"
   ]
  },
  {
   "cell_type": "markdown",
   "id": "9873c462",
   "metadata": {},
   "source": [
    "predict.replace({1:'A',2:'B',3:'C'})"
   ]
  },
  {
   "cell_type": "code",
   "execution_count": 103,
   "id": "f04284a8",
   "metadata": {},
   "outputs": [],
   "source": [
    "df_pred = pd.DataFrame(data = predict, columns = ['Prediction'])"
   ]
  },
  {
   "cell_type": "code",
   "execution_count": 104,
   "id": "7d111fa6",
   "metadata": {},
   "outputs": [
    {
     "data": {
      "text/html": [
       "<div>\n",
       "<style scoped>\n",
       "    .dataframe tbody tr th:only-of-type {\n",
       "        vertical-align: middle;\n",
       "    }\n",
       "\n",
       "    .dataframe tbody tr th {\n",
       "        vertical-align: top;\n",
       "    }\n",
       "\n",
       "    .dataframe thead th {\n",
       "        text-align: right;\n",
       "    }\n",
       "</style>\n",
       "<table border=\"1\" class=\"dataframe\">\n",
       "  <thead>\n",
       "    <tr style=\"text-align: right;\">\n",
       "      <th></th>\n",
       "      <th>ID</th>\n",
       "      <th>Prediction</th>\n",
       "    </tr>\n",
       "  </thead>\n",
       "  <tbody>\n",
       "    <tr>\n",
       "      <th>0</th>\n",
       "      <td>2</td>\n",
       "      <td>C</td>\n",
       "    </tr>\n",
       "    <tr>\n",
       "      <th>1</th>\n",
       "      <td>5</td>\n",
       "      <td>C</td>\n",
       "    </tr>\n",
       "    <tr>\n",
       "      <th>2</th>\n",
       "      <td>7</td>\n",
       "      <td>A</td>\n",
       "    </tr>\n",
       "    <tr>\n",
       "      <th>3</th>\n",
       "      <td>8</td>\n",
       "      <td>A</td>\n",
       "    </tr>\n",
       "    <tr>\n",
       "      <th>4</th>\n",
       "      <td>9</td>\n",
       "      <td>A</td>\n",
       "    </tr>\n",
       "  </tbody>\n",
       "</table>\n",
       "</div>"
      ],
      "text/plain": [
       "   ID Prediction\n",
       "0   2          C\n",
       "1   5          C\n",
       "2   7          A\n",
       "3   8          A\n",
       "4   9          A"
      ]
     },
     "execution_count": 104,
     "metadata": {},
     "output_type": "execute_result"
    }
   ],
   "source": [
    "df_pred=df_pred.replace({0:'A',1:'B',2:'C'})\n",
    "df_pred = pd.concat([test_id,df_pred],axis = 1)\n",
    "df_pred.head()"
   ]
  },
  {
   "cell_type": "code",
   "execution_count": 105,
   "id": "5a8eac74",
   "metadata": {},
   "outputs": [
    {
     "data": {
      "text/plain": [
       "C    50\n",
       "A    48\n",
       "B    11\n",
       "Name: Prediction, dtype: int64"
      ]
     },
     "execution_count": 105,
     "metadata": {},
     "output_type": "execute_result"
    }
   ],
   "source": [
    "df_pred['Prediction'].value_counts()"
   ]
  },
  {
   "cell_type": "code",
   "execution_count": 106,
   "id": "ad837f6e",
   "metadata": {},
   "outputs": [
    {
     "data": {
      "text/html": [
       "<div>\n",
       "<style scoped>\n",
       "    .dataframe tbody tr th:only-of-type {\n",
       "        vertical-align: middle;\n",
       "    }\n",
       "\n",
       "    .dataframe tbody tr th {\n",
       "        vertical-align: top;\n",
       "    }\n",
       "\n",
       "    .dataframe thead th {\n",
       "        text-align: right;\n",
       "    }\n",
       "</style>\n",
       "<table border=\"1\" class=\"dataframe\">\n",
       "  <thead>\n",
       "    <tr style=\"text-align: right;\">\n",
       "      <th></th>\n",
       "      <th>ID</th>\n",
       "      <th>Prediction</th>\n",
       "    </tr>\n",
       "  </thead>\n",
       "  <tbody>\n",
       "    <tr>\n",
       "      <th>0</th>\n",
       "      <td>2</td>\n",
       "      <td>C</td>\n",
       "    </tr>\n",
       "    <tr>\n",
       "      <th>1</th>\n",
       "      <td>5</td>\n",
       "      <td>C</td>\n",
       "    </tr>\n",
       "    <tr>\n",
       "      <th>2</th>\n",
       "      <td>7</td>\n",
       "      <td>A</td>\n",
       "    </tr>\n",
       "    <tr>\n",
       "      <th>3</th>\n",
       "      <td>8</td>\n",
       "      <td>A</td>\n",
       "    </tr>\n",
       "    <tr>\n",
       "      <th>4</th>\n",
       "      <td>9</td>\n",
       "      <td>A</td>\n",
       "    </tr>\n",
       "  </tbody>\n",
       "</table>\n",
       "</div>"
      ],
      "text/plain": [
       "   ID Prediction\n",
       "0   2          C\n",
       "1   5          C\n",
       "2   7          A\n",
       "3   8          A\n",
       "4   9          A"
      ]
     },
     "execution_count": 106,
     "metadata": {},
     "output_type": "execute_result"
    }
   ],
   "source": [
    "df_pred.head()"
   ]
  },
  {
   "cell_type": "code",
   "execution_count": 107,
   "id": "5e25afbd",
   "metadata": {},
   "outputs": [
    {
     "data": {
      "text/html": [
       "<div>\n",
       "<style scoped>\n",
       "    .dataframe tbody tr th:only-of-type {\n",
       "        vertical-align: middle;\n",
       "    }\n",
       "\n",
       "    .dataframe tbody tr th {\n",
       "        vertical-align: top;\n",
       "    }\n",
       "\n",
       "    .dataframe thead th {\n",
       "        text-align: right;\n",
       "    }\n",
       "</style>\n",
       "<table border=\"1\" class=\"dataframe\">\n",
       "  <thead>\n",
       "    <tr style=\"text-align: right;\">\n",
       "      <th></th>\n",
       "      <th>ID</th>\n",
       "    </tr>\n",
       "  </thead>\n",
       "  <tbody>\n",
       "    <tr>\n",
       "      <th>count</th>\n",
       "      <td>109.000000</td>\n",
       "    </tr>\n",
       "    <tr>\n",
       "      <th>mean</th>\n",
       "      <td>267.440367</td>\n",
       "    </tr>\n",
       "    <tr>\n",
       "      <th>std</th>\n",
       "      <td>152.644433</td>\n",
       "    </tr>\n",
       "    <tr>\n",
       "      <th>min</th>\n",
       "      <td>2.000000</td>\n",
       "    </tr>\n",
       "    <tr>\n",
       "      <th>25%</th>\n",
       "      <td>139.000000</td>\n",
       "    </tr>\n",
       "    <tr>\n",
       "      <th>50%</th>\n",
       "      <td>269.000000</td>\n",
       "    </tr>\n",
       "    <tr>\n",
       "      <th>75%</th>\n",
       "      <td>392.000000</td>\n",
       "    </tr>\n",
       "    <tr>\n",
       "      <th>max</th>\n",
       "      <td>541.000000</td>\n",
       "    </tr>\n",
       "  </tbody>\n",
       "</table>\n",
       "</div>"
      ],
      "text/plain": [
       "               ID\n",
       "count  109.000000\n",
       "mean   267.440367\n",
       "std    152.644433\n",
       "min      2.000000\n",
       "25%    139.000000\n",
       "50%    269.000000\n",
       "75%    392.000000\n",
       "max    541.000000"
      ]
     },
     "execution_count": 107,
     "metadata": {},
     "output_type": "execute_result"
    }
   ],
   "source": [
    "df_pred.describe()"
   ]
  },
  {
   "cell_type": "code",
   "execution_count": 108,
   "id": "4c996ef8",
   "metadata": {
    "scrolled": true
   },
   "outputs": [],
   "source": [
    "df_pred.to_csv('prediction.csv', index = False)"
   ]
  }
 ],
 "metadata": {
  "kernelspec": {
   "display_name": "Python 3 (ipykernel)",
   "language": "python",
   "name": "python3"
  },
  "language_info": {
   "codemirror_mode": {
    "name": "ipython",
    "version": 3
   },
   "file_extension": ".py",
   "mimetype": "text/x-python",
   "name": "python",
   "nbconvert_exporter": "python",
   "pygments_lexer": "ipython3",
   "version": "3.9.7"
  }
 },
 "nbformat": 4,
 "nbformat_minor": 5
}
